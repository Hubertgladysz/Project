{
 "cells": [
  {
   "cell_type": "code",
   "execution_count": 1,
   "id": "f81d8f83-a2de-486c-a0ec-8ea3c87d5bdd",
   "metadata": {
    "tags": []
   },
   "outputs": [],
   "source": [
    "import pandas as pd\n",
    "import numpy as np \n",
    "import seaborn as sns\n",
    "import matplotlib.pyplot as plt"
   ]
  },
  {
   "cell_type": "code",
   "execution_count": 2,
   "id": "83316c8b-9fe6-4330-a6a8-c70a2821b78d",
   "metadata": {
    "tags": []
   },
   "outputs": [
    {
     "name": "stderr",
     "output_type": "stream",
     "text": [
      "C:\\Users\\huber\\AppData\\Local\\Temp\\ipykernel_13468\\1008872696.py:1: DtypeWarning: Columns (8,9,10,11,12) have mixed types. Specify dtype option on import or set low_memory=False.\n",
      "  df = pd.read_csv('Data/Real_Estate_Sales_2001-2020_GL.csv')\n"
     ]
    },
    {
     "data": {
      "text/html": [
       "<div>\n",
       "<style scoped>\n",
       "    .dataframe tbody tr th:only-of-type {\n",
       "        vertical-align: middle;\n",
       "    }\n",
       "\n",
       "    .dataframe tbody tr th {\n",
       "        vertical-align: top;\n",
       "    }\n",
       "\n",
       "    .dataframe thead th {\n",
       "        text-align: right;\n",
       "    }\n",
       "</style>\n",
       "<table border=\"1\" class=\"dataframe\">\n",
       "  <thead>\n",
       "    <tr style=\"text-align: right;\">\n",
       "      <th></th>\n",
       "      <th>Serial Number</th>\n",
       "      <th>List Year</th>\n",
       "      <th>Date Recorded</th>\n",
       "      <th>Town</th>\n",
       "      <th>Address</th>\n",
       "      <th>Assessed Value</th>\n",
       "      <th>Sale Amount</th>\n",
       "      <th>Sales Ratio</th>\n",
       "      <th>Property Type</th>\n",
       "      <th>Residential Type</th>\n",
       "      <th>Non Use Code</th>\n",
       "      <th>Assessor Remarks</th>\n",
       "      <th>OPM remarks</th>\n",
       "      <th>Location</th>\n",
       "    </tr>\n",
       "  </thead>\n",
       "  <tbody>\n",
       "    <tr>\n",
       "      <th>0</th>\n",
       "      <td>2020348</td>\n",
       "      <td>2020</td>\n",
       "      <td>09/13/2021</td>\n",
       "      <td>Ansonia</td>\n",
       "      <td>230 WAKELEE AVE</td>\n",
       "      <td>150500.0</td>\n",
       "      <td>325000.0</td>\n",
       "      <td>0.4630</td>\n",
       "      <td>Commercial</td>\n",
       "      <td>NaN</td>\n",
       "      <td>NaN</td>\n",
       "      <td>NaN</td>\n",
       "      <td>NaN</td>\n",
       "      <td>NaN</td>\n",
       "    </tr>\n",
       "    <tr>\n",
       "      <th>1</th>\n",
       "      <td>20002</td>\n",
       "      <td>2020</td>\n",
       "      <td>10/02/2020</td>\n",
       "      <td>Ashford</td>\n",
       "      <td>390 TURNPIKE RD</td>\n",
       "      <td>253000.0</td>\n",
       "      <td>430000.0</td>\n",
       "      <td>0.5883</td>\n",
       "      <td>Residential</td>\n",
       "      <td>Single Family</td>\n",
       "      <td>NaN</td>\n",
       "      <td>NaN</td>\n",
       "      <td>NaN</td>\n",
       "      <td>NaN</td>\n",
       "    </tr>\n",
       "    <tr>\n",
       "      <th>2</th>\n",
       "      <td>200212</td>\n",
       "      <td>2020</td>\n",
       "      <td>03/09/2021</td>\n",
       "      <td>Avon</td>\n",
       "      <td>5 CHESTNUT DRIVE</td>\n",
       "      <td>130400.0</td>\n",
       "      <td>179900.0</td>\n",
       "      <td>0.7248</td>\n",
       "      <td>Residential</td>\n",
       "      <td>Condo</td>\n",
       "      <td>NaN</td>\n",
       "      <td>NaN</td>\n",
       "      <td>NaN</td>\n",
       "      <td>NaN</td>\n",
       "    </tr>\n",
       "    <tr>\n",
       "      <th>3</th>\n",
       "      <td>200243</td>\n",
       "      <td>2020</td>\n",
       "      <td>04/13/2021</td>\n",
       "      <td>Avon</td>\n",
       "      <td>111 NORTHINGTON DRIVE</td>\n",
       "      <td>619290.0</td>\n",
       "      <td>890000.0</td>\n",
       "      <td>0.6958</td>\n",
       "      <td>Residential</td>\n",
       "      <td>Single Family</td>\n",
       "      <td>NaN</td>\n",
       "      <td>NaN</td>\n",
       "      <td>NaN</td>\n",
       "      <td>NaN</td>\n",
       "    </tr>\n",
       "    <tr>\n",
       "      <th>4</th>\n",
       "      <td>200377</td>\n",
       "      <td>2020</td>\n",
       "      <td>07/02/2021</td>\n",
       "      <td>Avon</td>\n",
       "      <td>70 FAR HILLS DRIVE</td>\n",
       "      <td>862330.0</td>\n",
       "      <td>1447500.0</td>\n",
       "      <td>0.5957</td>\n",
       "      <td>Residential</td>\n",
       "      <td>Single Family</td>\n",
       "      <td>NaN</td>\n",
       "      <td>NaN</td>\n",
       "      <td>NaN</td>\n",
       "      <td>NaN</td>\n",
       "    </tr>\n",
       "  </tbody>\n",
       "</table>\n",
       "</div>"
      ],
      "text/plain": [
       "   Serial Number  List Year Date Recorded     Town                Address  \\\n",
       "0        2020348       2020    09/13/2021  Ansonia        230 WAKELEE AVE   \n",
       "1          20002       2020    10/02/2020  Ashford        390 TURNPIKE RD   \n",
       "2         200212       2020    03/09/2021     Avon       5 CHESTNUT DRIVE   \n",
       "3         200243       2020    04/13/2021     Avon  111 NORTHINGTON DRIVE   \n",
       "4         200377       2020    07/02/2021     Avon     70 FAR HILLS DRIVE   \n",
       "\n",
       "   Assessed Value  Sale Amount  Sales Ratio Property Type Residential Type  \\\n",
       "0        150500.0     325000.0       0.4630    Commercial              NaN   \n",
       "1        253000.0     430000.0       0.5883   Residential    Single Family   \n",
       "2        130400.0     179900.0       0.7248   Residential            Condo   \n",
       "3        619290.0     890000.0       0.6958   Residential    Single Family   \n",
       "4        862330.0    1447500.0       0.5957   Residential    Single Family   \n",
       "\n",
       "  Non Use Code Assessor Remarks OPM remarks Location  \n",
       "0          NaN              NaN         NaN      NaN  \n",
       "1          NaN              NaN         NaN      NaN  \n",
       "2          NaN              NaN         NaN      NaN  \n",
       "3          NaN              NaN         NaN      NaN  \n",
       "4          NaN              NaN         NaN      NaN  "
      ]
     },
     "execution_count": 2,
     "metadata": {},
     "output_type": "execute_result"
    }
   ],
   "source": [
    "df = pd.read_csv('Data/Real_Estate_Sales_2001-2020_GL.csv')\n",
    "df.head()"
   ]
  },
  {
   "cell_type": "code",
   "execution_count": 3,
   "id": "6e4ec408-a5cc-48ee-b488-7c47572e848e",
   "metadata": {
    "tags": []
   },
   "outputs": [],
   "source": [
    "df['Date Recorded'] = pd.to_datetime(df['Date Recorded'])"
   ]
  },
  {
   "cell_type": "code",
   "execution_count": 4,
   "id": "29f0f284-0921-4372-ae01-f74dbd693679",
   "metadata": {
    "tags": []
   },
   "outputs": [
    {
     "name": "stdout",
     "output_type": "stream",
     "text": [
      "dtypes:\n",
      "Serial Number                int64\n",
      "List Year                    int64\n",
      "Date Recorded       datetime64[ns]\n",
      "Town                        object\n",
      "Address                     object\n",
      "Assessed Value             float64\n",
      "Sale Amount                float64\n",
      "Sales Ratio                float64\n",
      "Property Type               object\n",
      "Residential Type            object\n",
      "Non Use Code                object\n",
      "Assessor Remarks            object\n",
      "OPM remarks                 object\n",
      "Location                    object\n",
      "dtype: object\n",
      "_______________\n",
      "Stats:\n",
      "        Serial Number      List Year  Assessed Value   Sale Amount  \\\n",
      "count   9.972130e+05  997213.000000    9.972130e+05  9.972130e+05   \n",
      "mean    4.311864e+05    2010.189829    2.791437e+05  3.911512e+05   \n",
      "std     6.549219e+06       6.237877    1.670610e+06  5.347270e+06   \n",
      "min     0.000000e+00    2001.000000    0.000000e+00  0.000000e+00   \n",
      "25%     3.044400e+04    2004.000000    8.760000e+04  1.400000e+05   \n",
      "50%     7.030300e+04    2010.000000    1.383900e+05  2.250000e+05   \n",
      "75%     1.518780e+05    2016.000000    2.255600e+05  3.650000e+05   \n",
      "max     2.000500e+09    2020.000000    8.815100e+08  5.000000e+09   \n",
      "\n",
      "        Sales Ratio  \n",
      "count  9.972130e+05  \n",
      "mean   1.044637e+01  \n",
      "std    1.890192e+03  \n",
      "min    0.000000e+00  \n",
      "25%    4.867000e-01  \n",
      "50%    6.246000e-01  \n",
      "75%    7.852761e-01  \n",
      "max    1.226420e+06  \n",
      "_______________\n",
      "Null values:\n",
      "Serial Number            0\n",
      "List Year                0\n",
      "Date Recorded            2\n",
      "Town                     0\n",
      "Address                 51\n",
      "Assessed Value           0\n",
      "Sale Amount              0\n",
      "Sales Ratio              0\n",
      "Property Type       382446\n",
      "Residential Type    388309\n",
      "Non Use Code        707532\n",
      "Assessor Remarks    847349\n",
      "OPM remarks         987279\n",
      "Location            799516\n",
      "dtype: int64\n",
      "_______________\n",
      "Duplicated values: 0\n",
      "_______________\n",
      "Shape:(997213, 14)\n"
     ]
    }
   ],
   "source": [
    "print(f'dtypes:\\n{df.dtypes}')\n",
    "print('_'*15)\n",
    "print(f'Stats:\\n {df.describe()}')\n",
    "print('_'*15)\n",
    "print(f'Null values:\\n{df.isnull().sum()}')\n",
    "print('_'*15)\n",
    "print(f'Duplicated values: {df.duplicated().sum()}')\n",
    "print('_'*15)\n",
    "print(f'Shape:{df.shape}')"
   ]
  },
  {
   "cell_type": "code",
   "execution_count": 5,
   "id": "5208a319-e541-46b8-b73f-5c1546899c01",
   "metadata": {
    "tags": []
   },
   "outputs": [],
   "source": [
    "#List year does not match date recorded, so new list year column will be done based on date rec column so this will be dropped, \n",
    "#serial number col is useless so will be dropped as well, all the other dropped columns contain too many N/A\n",
    "\n",
    "df = df.drop(columns = ['Serial Number', 'List Year', 'Non Use Code', 'Assessor Remarks', 'OPM remarks', 'Location'])"
   ]
  },
  {
   "cell_type": "code",
   "execution_count": 6,
   "id": "0f303287-d126-4e89-8ded-e82049f868d9",
   "metadata": {
    "tags": []
   },
   "outputs": [],
   "source": [
    "df['List Year'] = pd.DatetimeIndex(df['Date Recorded']).year"
   ]
  },
  {
   "cell_type": "code",
   "execution_count": 7,
   "id": "9fcb36e6-57ab-4d12-829f-827c41b4f7a4",
   "metadata": {
    "tags": []
   },
   "outputs": [
    {
     "data": {
      "text/plain": [
       "Single Family     401612\n",
       "Condo             105420\n",
       "Residential        60728\n",
       "Two Family         26408\n",
       "Three Family       12586\n",
       "Vacant Land         3163\n",
       "Four Family         2150\n",
       "Commercial          1981\n",
       "Apartments           486\n",
       "Industrial           228\n",
       "Public Utility         5\n",
       "Name: Property Type, dtype: int64"
      ]
     },
     "execution_count": 7,
     "metadata": {},
     "output_type": "execute_result"
    }
   ],
   "source": [
    "df['Property Type'].value_counts() #Property type column looks way more specific, so the residential type column can be dropped"
   ]
  },
  {
   "cell_type": "code",
   "execution_count": 8,
   "id": "1db87b85-fcc3-4461-9b83-0be5d993f391",
   "metadata": {
    "tags": []
   },
   "outputs": [
    {
     "data": {
      "text/plain": [
       "Single Family    445016\n",
       "Condo            117780\n",
       "Two Family        29609\n",
       "Three Family      14081\n",
       "Four Family        2418\n",
       "Name: Residential Type, dtype: int64"
      ]
     },
     "execution_count": 8,
     "metadata": {},
     "output_type": "execute_result"
    }
   ],
   "source": [
    "df['Residential Type'].value_counts()"
   ]
  },
  {
   "cell_type": "code",
   "execution_count": 10,
   "id": "f1d3f108-3430-4a3f-88dc-997c08e80576",
   "metadata": {
    "tags": []
   },
   "outputs": [],
   "source": [
    "#As the vacant land is not a building it can be dropped as well from the Property Type col\n",
    "df = df.drop(df[df['Property Type']=='Vacant Land'].index)"
   ]
  },
  {
   "cell_type": "code",
   "execution_count": 11,
   "id": "bcfedc43-0305-4dd2-a20a-411892fa8527",
   "metadata": {
    "tags": []
   },
   "outputs": [],
   "source": [
    "#There is only 5 Public Utility properties so these will be dropped as well \n",
    "df = df.drop(df[df['Property Type']=='Public Utility'].index)"
   ]
  },
  {
   "cell_type": "code",
   "execution_count": 12,
   "id": "9825a472-a77e-492c-b762-c79e9b671304",
   "metadata": {
    "tags": []
   },
   "outputs": [],
   "source": [
    "df = df.drop('Residential Type', axis=1)"
   ]
  },
  {
   "cell_type": "code",
   "execution_count": 13,
   "id": "79910736-dee2-4443-b939-f115ff739311",
   "metadata": {
    "tags": []
   },
   "outputs": [
    {
     "data": {
      "text/plain": [
       "712375"
      ]
     },
     "execution_count": 13,
     "metadata": {},
     "output_type": "execute_result"
    }
   ],
   "source": [
    "df['Address'].nunique() #Adress can be drop as its almost unique value, useless for ML"
   ]
  },
  {
   "cell_type": "code",
   "execution_count": 14,
   "id": "7268688b-062e-4230-87e5-8ba88783a6ce",
   "metadata": {
    "tags": []
   },
   "outputs": [],
   "source": [
    "df = df.drop('Address', axis=1)"
   ]
  },
  {
   "cell_type": "code",
   "execution_count": 15,
   "id": "b85b837e-fa8b-47ea-b8e2-3231c6cb9288",
   "metadata": {
    "tags": []
   },
   "outputs": [
    {
     "data": {
      "text/html": [
       "<div>\n",
       "<style scoped>\n",
       "    .dataframe tbody tr th:only-of-type {\n",
       "        vertical-align: middle;\n",
       "    }\n",
       "\n",
       "    .dataframe tbody tr th {\n",
       "        vertical-align: top;\n",
       "    }\n",
       "\n",
       "    .dataframe thead th {\n",
       "        text-align: right;\n",
       "    }\n",
       "</style>\n",
       "<table border=\"1\" class=\"dataframe\">\n",
       "  <thead>\n",
       "    <tr style=\"text-align: right;\">\n",
       "      <th></th>\n",
       "      <th>Date Recorded</th>\n",
       "      <th>Town</th>\n",
       "      <th>Assessed Value</th>\n",
       "      <th>Sale Amount</th>\n",
       "      <th>Sales Ratio</th>\n",
       "      <th>Property Type</th>\n",
       "      <th>List Year</th>\n",
       "    </tr>\n",
       "  </thead>\n",
       "  <tbody>\n",
       "    <tr>\n",
       "      <th>177917</th>\n",
       "      <td>NaT</td>\n",
       "      <td>Orange</td>\n",
       "      <td>0.0</td>\n",
       "      <td>0.0</td>\n",
       "      <td>0.0</td>\n",
       "      <td>NaN</td>\n",
       "      <td>NaN</td>\n",
       "    </tr>\n",
       "    <tr>\n",
       "      <th>179410</th>\n",
       "      <td>NaT</td>\n",
       "      <td>Orange</td>\n",
       "      <td>0.0</td>\n",
       "      <td>0.0</td>\n",
       "      <td>0.0</td>\n",
       "      <td>NaN</td>\n",
       "      <td>NaN</td>\n",
       "    </tr>\n",
       "  </tbody>\n",
       "</table>\n",
       "</div>"
      ],
      "text/plain": [
       "       Date Recorded    Town  Assessed Value  Sale Amount  Sales Ratio  \\\n",
       "177917           NaT  Orange             0.0          0.0          0.0   \n",
       "179410           NaT  Orange             0.0          0.0          0.0   \n",
       "\n",
       "       Property Type  List Year  \n",
       "177917           NaN        NaN  \n",
       "179410           NaN        NaN  "
      ]
     },
     "execution_count": 15,
     "metadata": {},
     "output_type": "execute_result"
    }
   ],
   "source": [
    "df.loc[df['Date Recorded'].isna()] #All columns are blank in date recorded null so this will be dropped"
   ]
  },
  {
   "cell_type": "code",
   "execution_count": 16,
   "id": "05a8ff14-6a9f-41d6-a2dc-56d0a24902cb",
   "metadata": {
    "tags": []
   },
   "outputs": [],
   "source": [
    "df = df.dropna(subset = 'Date Recorded')"
   ]
  },
  {
   "cell_type": "code",
   "execution_count": 17,
   "id": "e227e249-8360-443d-90a2-37358d156b81",
   "metadata": {
    "tags": []
   },
   "outputs": [
    {
     "data": {
      "text/html": [
       "<div>\n",
       "<style scoped>\n",
       "    .dataframe tbody tr th:only-of-type {\n",
       "        vertical-align: middle;\n",
       "    }\n",
       "\n",
       "    .dataframe tbody tr th {\n",
       "        vertical-align: top;\n",
       "    }\n",
       "\n",
       "    .dataframe thead th {\n",
       "        text-align: right;\n",
       "    }\n",
       "</style>\n",
       "<table border=\"1\" class=\"dataframe\">\n",
       "  <thead>\n",
       "    <tr style=\"text-align: right;\">\n",
       "      <th></th>\n",
       "      <th>Date Recorded</th>\n",
       "      <th>Town</th>\n",
       "      <th>Assessed Value</th>\n",
       "      <th>Sale Amount</th>\n",
       "      <th>Sales Ratio</th>\n",
       "      <th>Property Type</th>\n",
       "      <th>List Year</th>\n",
       "    </tr>\n",
       "  </thead>\n",
       "  <tbody>\n",
       "    <tr>\n",
       "      <th>0</th>\n",
       "      <td>2021-09-13</td>\n",
       "      <td>Ansonia</td>\n",
       "      <td>150500.0</td>\n",
       "      <td>325000.0</td>\n",
       "      <td>0.463000</td>\n",
       "      <td>Commercial</td>\n",
       "      <td>2021.0</td>\n",
       "    </tr>\n",
       "    <tr>\n",
       "      <th>1</th>\n",
       "      <td>2020-10-02</td>\n",
       "      <td>Ashford</td>\n",
       "      <td>253000.0</td>\n",
       "      <td>430000.0</td>\n",
       "      <td>0.588300</td>\n",
       "      <td>Residential</td>\n",
       "      <td>2020.0</td>\n",
       "    </tr>\n",
       "    <tr>\n",
       "      <th>2</th>\n",
       "      <td>2021-03-09</td>\n",
       "      <td>Avon</td>\n",
       "      <td>130400.0</td>\n",
       "      <td>179900.0</td>\n",
       "      <td>0.724800</td>\n",
       "      <td>Residential</td>\n",
       "      <td>2021.0</td>\n",
       "    </tr>\n",
       "    <tr>\n",
       "      <th>3</th>\n",
       "      <td>2021-04-13</td>\n",
       "      <td>Avon</td>\n",
       "      <td>619290.0</td>\n",
       "      <td>890000.0</td>\n",
       "      <td>0.695800</td>\n",
       "      <td>Residential</td>\n",
       "      <td>2021.0</td>\n",
       "    </tr>\n",
       "    <tr>\n",
       "      <th>4</th>\n",
       "      <td>2021-07-02</td>\n",
       "      <td>Avon</td>\n",
       "      <td>862330.0</td>\n",
       "      <td>1447500.0</td>\n",
       "      <td>0.595700</td>\n",
       "      <td>Residential</td>\n",
       "      <td>2021.0</td>\n",
       "    </tr>\n",
       "    <tr>\n",
       "      <th>...</th>\n",
       "      <td>...</td>\n",
       "      <td>...</td>\n",
       "      <td>...</td>\n",
       "      <td>...</td>\n",
       "      <td>...</td>\n",
       "      <td>...</td>\n",
       "      <td>...</td>\n",
       "    </tr>\n",
       "    <tr>\n",
       "      <th>997208</th>\n",
       "      <td>2020-06-24</td>\n",
       "      <td>New London</td>\n",
       "      <td>60410.0</td>\n",
       "      <td>53100.0</td>\n",
       "      <td>1.137665</td>\n",
       "      <td>Single Family</td>\n",
       "      <td>2020.0</td>\n",
       "    </tr>\n",
       "    <tr>\n",
       "      <th>997209</th>\n",
       "      <td>2019-11-27</td>\n",
       "      <td>Waterbury</td>\n",
       "      <td>68280.0</td>\n",
       "      <td>76000.0</td>\n",
       "      <td>0.898400</td>\n",
       "      <td>Single Family</td>\n",
       "      <td>2019.0</td>\n",
       "    </tr>\n",
       "    <tr>\n",
       "      <th>997210</th>\n",
       "      <td>2020-04-27</td>\n",
       "      <td>Windsor Locks</td>\n",
       "      <td>121450.0</td>\n",
       "      <td>210000.0</td>\n",
       "      <td>0.578300</td>\n",
       "      <td>Single Family</td>\n",
       "      <td>2020.0</td>\n",
       "    </tr>\n",
       "    <tr>\n",
       "      <th>997211</th>\n",
       "      <td>2020-06-03</td>\n",
       "      <td>Middletown</td>\n",
       "      <td>203360.0</td>\n",
       "      <td>280000.0</td>\n",
       "      <td>0.726300</td>\n",
       "      <td>Single Family</td>\n",
       "      <td>2020.0</td>\n",
       "    </tr>\n",
       "    <tr>\n",
       "      <th>997212</th>\n",
       "      <td>2019-12-20</td>\n",
       "      <td>Milford</td>\n",
       "      <td>4035970.0</td>\n",
       "      <td>7450000.0</td>\n",
       "      <td>0.541700</td>\n",
       "      <td>NaN</td>\n",
       "      <td>2019.0</td>\n",
       "    </tr>\n",
       "  </tbody>\n",
       "</table>\n",
       "<p>994043 rows × 7 columns</p>\n",
       "</div>"
      ],
      "text/plain": [
       "       Date Recorded           Town  Assessed Value  Sale Amount  Sales Ratio  \\\n",
       "0         2021-09-13        Ansonia        150500.0     325000.0     0.463000   \n",
       "1         2020-10-02        Ashford        253000.0     430000.0     0.588300   \n",
       "2         2021-03-09           Avon        130400.0     179900.0     0.724800   \n",
       "3         2021-04-13           Avon        619290.0     890000.0     0.695800   \n",
       "4         2021-07-02           Avon        862330.0    1447500.0     0.595700   \n",
       "...              ...            ...             ...          ...          ...   \n",
       "997208    2020-06-24     New London         60410.0      53100.0     1.137665   \n",
       "997209    2019-11-27      Waterbury         68280.0      76000.0     0.898400   \n",
       "997210    2020-04-27  Windsor Locks        121450.0     210000.0     0.578300   \n",
       "997211    2020-06-03     Middletown        203360.0     280000.0     0.726300   \n",
       "997212    2019-12-20        Milford       4035970.0    7450000.0     0.541700   \n",
       "\n",
       "        Property Type  List Year  \n",
       "0          Commercial     2021.0  \n",
       "1         Residential     2020.0  \n",
       "2         Residential     2021.0  \n",
       "3         Residential     2021.0  \n",
       "4         Residential     2021.0  \n",
       "...               ...        ...  \n",
       "997208  Single Family     2020.0  \n",
       "997209  Single Family     2019.0  \n",
       "997210  Single Family     2020.0  \n",
       "997211  Single Family     2020.0  \n",
       "997212            NaN     2019.0  \n",
       "\n",
       "[994043 rows x 7 columns]"
      ]
     },
     "execution_count": 17,
     "metadata": {},
     "output_type": "execute_result"
    }
   ],
   "source": [
    "df"
   ]
  },
  {
   "cell_type": "code",
   "execution_count": 182,
   "id": "0e1b1fe1-68ea-4a87-869b-b567100a5e32",
   "metadata": {
    "tags": []
   },
   "outputs": [
    {
     "data": {
      "text/plain": [
       "count    9.840570e+05\n",
       "mean     3.903043e+05\n",
       "std      1.889413e+06\n",
       "min      1.000000e+04\n",
       "25%      1.430000e+05\n",
       "50%      2.276000e+05\n",
       "75%      3.650400e+05\n",
       "max      3.955000e+08\n",
       "Name: Sale Amount, dtype: float64"
      ]
     },
     "execution_count": 182,
     "metadata": {},
     "output_type": "execute_result"
    }
   ],
   "source": [
    "df['Sale Amount'].describe() #Min sale amount is 0 which is not possible - i will drop all the date with sale amount less than a 10000, as this is noise, not extreme value \n",
    "#This will not change the mean much, but make model predict better on average, high values are still in as they are considered as extreme value which is valuable "
   ]
  },
  {
   "cell_type": "code",
   "execution_count": 19,
   "id": "2cf0e3aa-ae5d-4332-bf9e-76d16fefe82f",
   "metadata": {
    "tags": []
   },
   "outputs": [],
   "source": [
    "def noise(x):\n",
    "    if x < 10000:\n",
    "        x = np.nan\n",
    "    else:\n",
    "        return x"
   ]
  },
  {
   "cell_type": "code",
   "execution_count": 20,
   "id": "024c2039-a166-44e5-b0a6-c8d13e11fd36",
   "metadata": {
    "tags": []
   },
   "outputs": [],
   "source": [
    "df['Sale Amount'] = df['Sale Amount'].apply(noise)"
   ]
  },
  {
   "cell_type": "code",
   "execution_count": 21,
   "id": "4282af0c-009a-4958-a3ab-a1b7d8a77371",
   "metadata": {
    "tags": []
   },
   "outputs": [],
   "source": [
    "df = df.dropna(subset = 'Sale Amount')"
   ]
  },
  {
   "cell_type": "code",
   "execution_count": 22,
   "id": "ae1aebf5-ebd7-49a0-a591-4e3648c0717b",
   "metadata": {
    "tags": []
   },
   "outputs": [
    {
     "name": "stdout",
     "output_type": "stream",
     "text": [
      "Null values:\n",
      "Date Recorded          0\n",
      "Town                   0\n",
      "Assessed Value         0\n",
      "Sale Amount            0\n",
      "Sales Ratio            0\n",
      "Property Type     374978\n",
      "List Year              0\n",
      "dtype: int64\n"
     ]
    }
   ],
   "source": [
    "print(f'Null values:\\n{df.isnull().sum()}') "
   ]
  },
  {
   "cell_type": "code",
   "execution_count": 23,
   "id": "b7d9dbc6-6abf-4ffe-a0e3-d8a94f3092f5",
   "metadata": {},
   "outputs": [],
   "source": [
    "df.reset_index(inplace=True, drop=True) #Index was not correct after dropping data from a large set"
   ]
  },
  {
   "cell_type": "code",
   "execution_count": 24,
   "id": "fde60bc1-cbb2-474e-a6ba-ea8f80b9530d",
   "metadata": {
    "tags": []
   },
   "outputs": [],
   "source": [
    "#Amount of missing data in the property type column is very high, and in my opinion this column is to valuable to be dropped as all na even tho the data set is quite large\n",
    "#Due to that I will split the data in smaller set (100k) and use KNN algo to fill missing data\n",
    "#I would use that on the whole set, however its to large for KNN (KNN is very slow) \n",
    "#OBV I will perform grid search, also will use other algo propably XGBClassifier to compare with KNN, but I think KNN will be best for this type of data\n",
    "#As change of the price in time is very significant I will use random split to select 100k of rows to input into the data imputation model"
   ]
  },
  {
   "cell_type": "markdown",
   "id": "eff09c13-fed5-4bf1-9cad-e93659f203fd",
   "metadata": {},
   "source": [
    "Data imputation"
   ]
  },
  {
   "cell_type": "code",
   "execution_count": 26,
   "id": "93b046e6-7fe4-4883-982d-2c729b7e3cab",
   "metadata": {
    "tags": []
   },
   "outputs": [],
   "source": [
    "cols = df.columns"
   ]
  },
  {
   "cell_type": "code",
   "execution_count": 27,
   "id": "1f403255-094b-48a0-b3c0-da442815993d",
   "metadata": {
    "tags": []
   },
   "outputs": [],
   "source": [
    "sample = df.dropna()"
   ]
  },
  {
   "cell_type": "code",
   "execution_count": 28,
   "id": "07cff199-15f8-4f11-9cd1-93e925f78eab",
   "metadata": {
    "tags": []
   },
   "outputs": [],
   "source": [
    "sample.reset_index(inplace = True, drop=True)"
   ]
  },
  {
   "cell_type": "code",
   "execution_count": 29,
   "id": "5c525e6e-1017-4673-a3c6-5bf123cd87c3",
   "metadata": {
    "tags": []
   },
   "outputs": [],
   "source": [
    "sample = sample.sample(n = 100000, axis=0)"
   ]
  },
  {
   "cell_type": "code",
   "execution_count": 30,
   "id": "cefee085-8fd2-429d-8e8d-7fe25b6d6a4f",
   "metadata": {
    "tags": []
   },
   "outputs": [
    {
     "data": {
      "text/html": [
       "<div>\n",
       "<style scoped>\n",
       "    .dataframe tbody tr th:only-of-type {\n",
       "        vertical-align: middle;\n",
       "    }\n",
       "\n",
       "    .dataframe tbody tr th {\n",
       "        vertical-align: top;\n",
       "    }\n",
       "\n",
       "    .dataframe thead th {\n",
       "        text-align: right;\n",
       "    }\n",
       "</style>\n",
       "<table border=\"1\" class=\"dataframe\">\n",
       "  <thead>\n",
       "    <tr style=\"text-align: right;\">\n",
       "      <th></th>\n",
       "      <th>Date Recorded</th>\n",
       "      <th>Town</th>\n",
       "      <th>Assessed Value</th>\n",
       "      <th>Sale Amount</th>\n",
       "      <th>Sales Ratio</th>\n",
       "      <th>Property Type</th>\n",
       "      <th>List Year</th>\n",
       "    </tr>\n",
       "  </thead>\n",
       "  <tbody>\n",
       "    <tr>\n",
       "      <th>433448</th>\n",
       "      <td>2017-05-05</td>\n",
       "      <td>Newtown</td>\n",
       "      <td>327890.0</td>\n",
       "      <td>505000.00</td>\n",
       "      <td>0.649287</td>\n",
       "      <td>Single Family</td>\n",
       "      <td>2017.0</td>\n",
       "    </tr>\n",
       "    <tr>\n",
       "      <th>144977</th>\n",
       "      <td>2008-11-03</td>\n",
       "      <td>Middletown</td>\n",
       "      <td>127230.0</td>\n",
       "      <td>188000.00</td>\n",
       "      <td>0.676755</td>\n",
       "      <td>Single Family</td>\n",
       "      <td>2008.0</td>\n",
       "    </tr>\n",
       "    <tr>\n",
       "      <th>56758</th>\n",
       "      <td>2021-03-18</td>\n",
       "      <td>Suffield</td>\n",
       "      <td>5803770.0</td>\n",
       "      <td>10677864.03</td>\n",
       "      <td>0.543500</td>\n",
       "      <td>Commercial</td>\n",
       "      <td>2021.0</td>\n",
       "    </tr>\n",
       "    <tr>\n",
       "      <th>24531</th>\n",
       "      <td>2021-03-08</td>\n",
       "      <td>Plainfield</td>\n",
       "      <td>220350.0</td>\n",
       "      <td>299000.00</td>\n",
       "      <td>0.736900</td>\n",
       "      <td>Residential</td>\n",
       "      <td>2021.0</td>\n",
       "    </tr>\n",
       "    <tr>\n",
       "      <th>155355</th>\n",
       "      <td>2008-11-24</td>\n",
       "      <td>Meriden</td>\n",
       "      <td>140380.0</td>\n",
       "      <td>105500.00</td>\n",
       "      <td>1.330616</td>\n",
       "      <td>Two Family</td>\n",
       "      <td>2008.0</td>\n",
       "    </tr>\n",
       "    <tr>\n",
       "      <th>...</th>\n",
       "      <td>...</td>\n",
       "      <td>...</td>\n",
       "      <td>...</td>\n",
       "      <td>...</td>\n",
       "      <td>...</td>\n",
       "      <td>...</td>\n",
       "      <td>...</td>\n",
       "    </tr>\n",
       "    <tr>\n",
       "      <th>525950</th>\n",
       "      <td>2019-07-11</td>\n",
       "      <td>Ridgefield</td>\n",
       "      <td>519690.0</td>\n",
       "      <td>1570000.00</td>\n",
       "      <td>0.331000</td>\n",
       "      <td>Single Family</td>\n",
       "      <td>2019.0</td>\n",
       "    </tr>\n",
       "    <tr>\n",
       "      <th>404019</th>\n",
       "      <td>2016-07-11</td>\n",
       "      <td>Waterbury</td>\n",
       "      <td>28990.0</td>\n",
       "      <td>37400.00</td>\n",
       "      <td>0.775134</td>\n",
       "      <td>Condo</td>\n",
       "      <td>2016.0</td>\n",
       "    </tr>\n",
       "    <tr>\n",
       "      <th>275015</th>\n",
       "      <td>2013-01-29</td>\n",
       "      <td>Bethany</td>\n",
       "      <td>329860.0</td>\n",
       "      <td>340000.00</td>\n",
       "      <td>0.970176</td>\n",
       "      <td>Single Family</td>\n",
       "      <td>2013.0</td>\n",
       "    </tr>\n",
       "    <tr>\n",
       "      <th>500861</th>\n",
       "      <td>2018-06-13</td>\n",
       "      <td>Putnam</td>\n",
       "      <td>118900.0</td>\n",
       "      <td>143000.00</td>\n",
       "      <td>0.831400</td>\n",
       "      <td>Three Family</td>\n",
       "      <td>2018.0</td>\n",
       "    </tr>\n",
       "    <tr>\n",
       "      <th>497065</th>\n",
       "      <td>2018-09-17</td>\n",
       "      <td>East Hartford</td>\n",
       "      <td>150380.0</td>\n",
       "      <td>160000.00</td>\n",
       "      <td>0.939800</td>\n",
       "      <td>Three Family</td>\n",
       "      <td>2018.0</td>\n",
       "    </tr>\n",
       "  </tbody>\n",
       "</table>\n",
       "<p>100000 rows × 7 columns</p>\n",
       "</div>"
      ],
      "text/plain": [
       "       Date Recorded           Town  Assessed Value  Sale Amount  Sales Ratio  \\\n",
       "433448    2017-05-05        Newtown        327890.0    505000.00     0.649287   \n",
       "144977    2008-11-03     Middletown        127230.0    188000.00     0.676755   \n",
       "56758     2021-03-18       Suffield       5803770.0  10677864.03     0.543500   \n",
       "24531     2021-03-08     Plainfield        220350.0    299000.00     0.736900   \n",
       "155355    2008-11-24        Meriden        140380.0    105500.00     1.330616   \n",
       "...              ...            ...             ...          ...          ...   \n",
       "525950    2019-07-11     Ridgefield        519690.0   1570000.00     0.331000   \n",
       "404019    2016-07-11      Waterbury         28990.0     37400.00     0.775134   \n",
       "275015    2013-01-29        Bethany        329860.0    340000.00     0.970176   \n",
       "500861    2018-06-13         Putnam        118900.0    143000.00     0.831400   \n",
       "497065    2018-09-17  East Hartford        150380.0    160000.00     0.939800   \n",
       "\n",
       "        Property Type  List Year  \n",
       "433448  Single Family     2017.0  \n",
       "144977  Single Family     2008.0  \n",
       "56758      Commercial     2021.0  \n",
       "24531     Residential     2021.0  \n",
       "155355     Two Family     2008.0  \n",
       "...               ...        ...  \n",
       "525950  Single Family     2019.0  \n",
       "404019          Condo     2016.0  \n",
       "275015  Single Family     2013.0  \n",
       "500861   Three Family     2018.0  \n",
       "497065   Three Family     2018.0  \n",
       "\n",
       "[100000 rows x 7 columns]"
      ]
     },
     "execution_count": 30,
     "metadata": {},
     "output_type": "execute_result"
    }
   ],
   "source": [
    "sample"
   ]
  },
  {
   "cell_type": "code",
   "execution_count": 31,
   "id": "9eba0f80-71df-4bdc-8782-9ab8c83b6b32",
   "metadata": {
    "tags": []
   },
   "outputs": [],
   "source": [
    "X_s = sample.drop('Property Type', axis=1)\n",
    "y_s = sample['Property Type']"
   ]
  },
  {
   "cell_type": "code",
   "execution_count": 32,
   "id": "c8b30179-7b13-4a8a-8d5f-2e9c4a1fc114",
   "metadata": {
    "tags": []
   },
   "outputs": [],
   "source": [
    "from sklearn.model_selection import train_test_split\n",
    "from sklearn.pipeline import Pipeline\n",
    "from sklearn.compose import ColumnTransformer\n",
    "from sklearn.preprocessing import StandardScaler\n",
    "from sklearn.preprocessing import OneHotEncoder\n",
    "from sklearn.preprocessing import OrdinalEncoder\n",
    "from sklearn.neighbors import KNeighborsClassifier\n",
    "from xgboost import XGBClassifier\n",
    "from sklearn.metrics import accuracy_score\n",
    "from sklearn.model_selection import GridSearchCV"
   ]
  },
  {
   "cell_type": "code",
   "execution_count": 33,
   "id": "fe593f94-f39c-4da7-9a22-e6544e5259c8",
   "metadata": {
    "tags": []
   },
   "outputs": [],
   "source": [
    "X_train_s, X_test_s, y_train_s, y_test_s = train_test_split(X_s, y_s, test_size=0.3, random_state=42)"
   ]
  },
  {
   "cell_type": "code",
   "execution_count": 34,
   "id": "ec8af92e-9ca4-450e-ab89-19759e85c4bb",
   "metadata": {
    "tags": []
   },
   "outputs": [],
   "source": [
    "num_col = sample.select_dtypes('float').columns\n",
    "cat_col = ['Town']"
   ]
  },
  {
   "cell_type": "code",
   "execution_count": 35,
   "id": "f1df8f6c-0813-4588-8e6d-8ea9e3e8b73f",
   "metadata": {
    "tags": []
   },
   "outputs": [],
   "source": [
    "t = [\n",
    "    ('num_col', StandardScaler(), num_col),\n",
    "    ('cat_col', OneHotEncoder(handle_unknown='ignore'), cat_col)]\n",
    "processor = ColumnTransformer(t)"
   ]
  },
  {
   "cell_type": "code",
   "execution_count": 36,
   "id": "88a788ac-2fff-4bb9-856b-0bddab773391",
   "metadata": {
    "tags": []
   },
   "outputs": [],
   "source": [
    "test_model = Pipeline([('processor', processor), \n",
    "                ('model', KNeighborsClassifier())])"
   ]
  },
  {
   "cell_type": "code",
   "execution_count": 37,
   "id": "9b94167b-69c8-4327-92c3-f46d1c785369",
   "metadata": {
    "tags": []
   },
   "outputs": [
    {
     "data": {
      "text/html": [
       "<style>#sk-container-id-1 {color: black;background-color: white;}#sk-container-id-1 pre{padding: 0;}#sk-container-id-1 div.sk-toggleable {background-color: white;}#sk-container-id-1 label.sk-toggleable__label {cursor: pointer;display: block;width: 100%;margin-bottom: 0;padding: 0.3em;box-sizing: border-box;text-align: center;}#sk-container-id-1 label.sk-toggleable__label-arrow:before {content: \"▸\";float: left;margin-right: 0.25em;color: #696969;}#sk-container-id-1 label.sk-toggleable__label-arrow:hover:before {color: black;}#sk-container-id-1 div.sk-estimator:hover label.sk-toggleable__label-arrow:before {color: black;}#sk-container-id-1 div.sk-toggleable__content {max-height: 0;max-width: 0;overflow: hidden;text-align: left;background-color: #f0f8ff;}#sk-container-id-1 div.sk-toggleable__content pre {margin: 0.2em;color: black;border-radius: 0.25em;background-color: #f0f8ff;}#sk-container-id-1 input.sk-toggleable__control:checked~div.sk-toggleable__content {max-height: 200px;max-width: 100%;overflow: auto;}#sk-container-id-1 input.sk-toggleable__control:checked~label.sk-toggleable__label-arrow:before {content: \"▾\";}#sk-container-id-1 div.sk-estimator input.sk-toggleable__control:checked~label.sk-toggleable__label {background-color: #d4ebff;}#sk-container-id-1 div.sk-label input.sk-toggleable__control:checked~label.sk-toggleable__label {background-color: #d4ebff;}#sk-container-id-1 input.sk-hidden--visually {border: 0;clip: rect(1px 1px 1px 1px);clip: rect(1px, 1px, 1px, 1px);height: 1px;margin: -1px;overflow: hidden;padding: 0;position: absolute;width: 1px;}#sk-container-id-1 div.sk-estimator {font-family: monospace;background-color: #f0f8ff;border: 1px dotted black;border-radius: 0.25em;box-sizing: border-box;margin-bottom: 0.5em;}#sk-container-id-1 div.sk-estimator:hover {background-color: #d4ebff;}#sk-container-id-1 div.sk-parallel-item::after {content: \"\";width: 100%;border-bottom: 1px solid gray;flex-grow: 1;}#sk-container-id-1 div.sk-label:hover label.sk-toggleable__label {background-color: #d4ebff;}#sk-container-id-1 div.sk-serial::before {content: \"\";position: absolute;border-left: 1px solid gray;box-sizing: border-box;top: 0;bottom: 0;left: 50%;z-index: 0;}#sk-container-id-1 div.sk-serial {display: flex;flex-direction: column;align-items: center;background-color: white;padding-right: 0.2em;padding-left: 0.2em;position: relative;}#sk-container-id-1 div.sk-item {position: relative;z-index: 1;}#sk-container-id-1 div.sk-parallel {display: flex;align-items: stretch;justify-content: center;background-color: white;position: relative;}#sk-container-id-1 div.sk-item::before, #sk-container-id-1 div.sk-parallel-item::before {content: \"\";position: absolute;border-left: 1px solid gray;box-sizing: border-box;top: 0;bottom: 0;left: 50%;z-index: -1;}#sk-container-id-1 div.sk-parallel-item {display: flex;flex-direction: column;z-index: 1;position: relative;background-color: white;}#sk-container-id-1 div.sk-parallel-item:first-child::after {align-self: flex-end;width: 50%;}#sk-container-id-1 div.sk-parallel-item:last-child::after {align-self: flex-start;width: 50%;}#sk-container-id-1 div.sk-parallel-item:only-child::after {width: 0;}#sk-container-id-1 div.sk-dashed-wrapped {border: 1px dashed gray;margin: 0 0.4em 0.5em 0.4em;box-sizing: border-box;padding-bottom: 0.4em;background-color: white;}#sk-container-id-1 div.sk-label label {font-family: monospace;font-weight: bold;display: inline-block;line-height: 1.2em;}#sk-container-id-1 div.sk-label-container {text-align: center;}#sk-container-id-1 div.sk-container {/* jupyter's `normalize.less` sets `[hidden] { display: none; }` but bootstrap.min.css set `[hidden] { display: none !important; }` so we also need the `!important` here to be able to override the default hidden behavior on the sphinx rendered scikit-learn.org. See: https://github.com/scikit-learn/scikit-learn/issues/21755 */display: inline-block !important;position: relative;}#sk-container-id-1 div.sk-text-repr-fallback {display: none;}</style><div id=\"sk-container-id-1\" class=\"sk-top-container\"><div class=\"sk-text-repr-fallback\"><pre>Pipeline(steps=[(&#x27;processor&#x27;,\n",
       "                 ColumnTransformer(transformers=[(&#x27;num_col&#x27;, StandardScaler(),\n",
       "                                                  Index([&#x27;Assessed Value&#x27;, &#x27;Sale Amount&#x27;, &#x27;Sales Ratio&#x27;, &#x27;List Year&#x27;], dtype=&#x27;object&#x27;)),\n",
       "                                                 (&#x27;cat_col&#x27;,\n",
       "                                                  OneHotEncoder(handle_unknown=&#x27;ignore&#x27;),\n",
       "                                                  [&#x27;Town&#x27;])])),\n",
       "                (&#x27;model&#x27;, KNeighborsClassifier())])</pre><b>In a Jupyter environment, please rerun this cell to show the HTML representation or trust the notebook. <br />On GitHub, the HTML representation is unable to render, please try loading this page with nbviewer.org.</b></div><div class=\"sk-container\" hidden><div class=\"sk-item sk-dashed-wrapped\"><div class=\"sk-label-container\"><div class=\"sk-label sk-toggleable\"><input class=\"sk-toggleable__control sk-hidden--visually\" id=\"sk-estimator-id-1\" type=\"checkbox\" ><label for=\"sk-estimator-id-1\" class=\"sk-toggleable__label sk-toggleable__label-arrow\">Pipeline</label><div class=\"sk-toggleable__content\"><pre>Pipeline(steps=[(&#x27;processor&#x27;,\n",
       "                 ColumnTransformer(transformers=[(&#x27;num_col&#x27;, StandardScaler(),\n",
       "                                                  Index([&#x27;Assessed Value&#x27;, &#x27;Sale Amount&#x27;, &#x27;Sales Ratio&#x27;, &#x27;List Year&#x27;], dtype=&#x27;object&#x27;)),\n",
       "                                                 (&#x27;cat_col&#x27;,\n",
       "                                                  OneHotEncoder(handle_unknown=&#x27;ignore&#x27;),\n",
       "                                                  [&#x27;Town&#x27;])])),\n",
       "                (&#x27;model&#x27;, KNeighborsClassifier())])</pre></div></div></div><div class=\"sk-serial\"><div class=\"sk-item sk-dashed-wrapped\"><div class=\"sk-label-container\"><div class=\"sk-label sk-toggleable\"><input class=\"sk-toggleable__control sk-hidden--visually\" id=\"sk-estimator-id-2\" type=\"checkbox\" ><label for=\"sk-estimator-id-2\" class=\"sk-toggleable__label sk-toggleable__label-arrow\">processor: ColumnTransformer</label><div class=\"sk-toggleable__content\"><pre>ColumnTransformer(transformers=[(&#x27;num_col&#x27;, StandardScaler(),\n",
       "                                 Index([&#x27;Assessed Value&#x27;, &#x27;Sale Amount&#x27;, &#x27;Sales Ratio&#x27;, &#x27;List Year&#x27;], dtype=&#x27;object&#x27;)),\n",
       "                                (&#x27;cat_col&#x27;,\n",
       "                                 OneHotEncoder(handle_unknown=&#x27;ignore&#x27;),\n",
       "                                 [&#x27;Town&#x27;])])</pre></div></div></div><div class=\"sk-parallel\"><div class=\"sk-parallel-item\"><div class=\"sk-item\"><div class=\"sk-label-container\"><div class=\"sk-label sk-toggleable\"><input class=\"sk-toggleable__control sk-hidden--visually\" id=\"sk-estimator-id-3\" type=\"checkbox\" ><label for=\"sk-estimator-id-3\" class=\"sk-toggleable__label sk-toggleable__label-arrow\">num_col</label><div class=\"sk-toggleable__content\"><pre>Index([&#x27;Assessed Value&#x27;, &#x27;Sale Amount&#x27;, &#x27;Sales Ratio&#x27;, &#x27;List Year&#x27;], dtype=&#x27;object&#x27;)</pre></div></div></div><div class=\"sk-serial\"><div class=\"sk-item\"><div class=\"sk-estimator sk-toggleable\"><input class=\"sk-toggleable__control sk-hidden--visually\" id=\"sk-estimator-id-4\" type=\"checkbox\" ><label for=\"sk-estimator-id-4\" class=\"sk-toggleable__label sk-toggleable__label-arrow\">StandardScaler</label><div class=\"sk-toggleable__content\"><pre>StandardScaler()</pre></div></div></div></div></div></div><div class=\"sk-parallel-item\"><div class=\"sk-item\"><div class=\"sk-label-container\"><div class=\"sk-label sk-toggleable\"><input class=\"sk-toggleable__control sk-hidden--visually\" id=\"sk-estimator-id-5\" type=\"checkbox\" ><label for=\"sk-estimator-id-5\" class=\"sk-toggleable__label sk-toggleable__label-arrow\">cat_col</label><div class=\"sk-toggleable__content\"><pre>[&#x27;Town&#x27;]</pre></div></div></div><div class=\"sk-serial\"><div class=\"sk-item\"><div class=\"sk-estimator sk-toggleable\"><input class=\"sk-toggleable__control sk-hidden--visually\" id=\"sk-estimator-id-6\" type=\"checkbox\" ><label for=\"sk-estimator-id-6\" class=\"sk-toggleable__label sk-toggleable__label-arrow\">OneHotEncoder</label><div class=\"sk-toggleable__content\"><pre>OneHotEncoder(handle_unknown=&#x27;ignore&#x27;)</pre></div></div></div></div></div></div></div></div><div class=\"sk-item\"><div class=\"sk-estimator sk-toggleable\"><input class=\"sk-toggleable__control sk-hidden--visually\" id=\"sk-estimator-id-7\" type=\"checkbox\" ><label for=\"sk-estimator-id-7\" class=\"sk-toggleable__label sk-toggleable__label-arrow\">KNeighborsClassifier</label><div class=\"sk-toggleable__content\"><pre>KNeighborsClassifier()</pre></div></div></div></div></div></div></div>"
      ],
      "text/plain": [
       "Pipeline(steps=[('processor',\n",
       "                 ColumnTransformer(transformers=[('num_col', StandardScaler(),\n",
       "                                                  Index(['Assessed Value', 'Sale Amount', 'Sales Ratio', 'List Year'], dtype='object')),\n",
       "                                                 ('cat_col',\n",
       "                                                  OneHotEncoder(handle_unknown='ignore'),\n",
       "                                                  ['Town'])])),\n",
       "                ('model', KNeighborsClassifier())])"
      ]
     },
     "execution_count": 37,
     "metadata": {},
     "output_type": "execute_result"
    }
   ],
   "source": [
    "test_model.fit(X_train_s, y_train_s)"
   ]
  },
  {
   "cell_type": "code",
   "execution_count": 38,
   "id": "e27eeb12-a2c4-4687-85e1-13f7c62915bc",
   "metadata": {
    "tags": []
   },
   "outputs": [],
   "source": [
    "test_pred = test_model.predict(X_test_s)"
   ]
  },
  {
   "cell_type": "code",
   "execution_count": 39,
   "id": "080a5afb-739a-4abf-a0e4-322c8b7578e4",
   "metadata": {
    "tags": []
   },
   "outputs": [],
   "source": [
    "train_score = {}\n",
    "test_score = {}\n",
    "n_neighbors = np.arange(2, 30, 4)\n",
    "for neighbor in n_neighbors:\n",
    "    test_model = Pipeline([('processor', processor), \n",
    "                ('model', KNeighborsClassifier(n_neighbors=neighbor))])\n",
    "    test_model.fit(X_train_s, y_train_s)\n",
    "    train_score[neighbor]=test_model.score(X_train_s, y_train_s)\n",
    "    test_score[neighbor]=test_model.score(X_test_s, y_test_s)"
   ]
  },
  {
   "cell_type": "code",
   "execution_count": 40,
   "id": "322f1fce-1ff4-4dac-9cd0-fe263339a5f4",
   "metadata": {
    "tags": []
   },
   "outputs": [
    {
     "data": {
      "text/plain": [
       "<matplotlib.legend.Legend at 0x26214c90ed0>"
      ]
     },
     "execution_count": 40,
     "metadata": {},
     "output_type": "execute_result"
    },
    {
     "data": {
      "image/png": "[encoded data removed]",
      "text/plain": [
       "<Figure size 640x480 with 1 Axes>"
      ]
     },
     "metadata": {},
     "output_type": "display_data"
    }
   ],
   "source": [
    "plt.plot(n_neighbors, train_score.values(), label=\"Train Accuracy\")\n",
    "plt.plot(n_neighbors, test_score.values(), label=\"Test Accuracy\")\n",
    "\n",
    "plt.legend()\n",
    "\n",
    "#Best n_neighbors hyperparameter is around 10 with accuracy 0.77"
   ]
  },
  {
   "cell_type": "code",
   "execution_count": 41,
   "id": "1b7bb28a-34df-43f3-ae83-b32920cfe5f9",
   "metadata": {
    "tags": []
   },
   "outputs": [],
   "source": [
    "y_train_s = y_train_s.map({'Single Family': 0, 'Condo': 1, 'Two Family': 2, 'Residential': 3,\n",
    "       'Three Family': 4, 'Apartments': 5, 'Commercial': 6, 'Four Family': 7,\n",
    "       'Industrial': 8})\n",
    "y_test_s = y_test_s.map({'Single Family': 0, 'Condo': 1, 'Two Family': 2, 'Residential': 3,\n",
    "       'Three Family': 4, 'Apartments': 5, 'Commercial': 6, 'Four Family': 7,\n",
    "       'Industrial': 8})"
   ]
  },
  {
   "cell_type": "code",
   "execution_count": 42,
   "id": "3ae595e7-a302-41f4-ac02-357da00b14ee",
   "metadata": {
    "tags": []
   },
   "outputs": [],
   "source": [
    "XGB_model = Pipeline([('processor', processor), \n",
    "                ('model', XGBClassifier(learning_rate = 0.2, n_estimators = 1000, verbosity = 2))])"
   ]
  },
  {
   "cell_type": "code",
   "execution_count": 43,
   "id": "b550b01c-171f-45ac-84c7-89e6a0a84fd2",
   "metadata": {
    "tags": []
   },
   "outputs": [
    {
     "data": {
      "text/html": [
       "<style>#sk-container-id-2 {color: black;background-color: white;}#sk-container-id-2 pre{padding: 0;}#sk-container-id-2 div.sk-toggleable {background-color: white;}#sk-container-id-2 label.sk-toggleable__label {cursor: pointer;display: block;width: 100%;margin-bottom: 0;padding: 0.3em;box-sizing: border-box;text-align: center;}#sk-container-id-2 label.sk-toggleable__label-arrow:before {content: \"▸\";float: left;margin-right: 0.25em;color: #696969;}#sk-container-id-2 label.sk-toggleable__label-arrow:hover:before {color: black;}#sk-container-id-2 div.sk-estimator:hover label.sk-toggleable__label-arrow:before {color: black;}#sk-container-id-2 div.sk-toggleable__content {max-height: 0;max-width: 0;overflow: hidden;text-align: left;background-color: #f0f8ff;}#sk-container-id-2 div.sk-toggleable__content pre {margin: 0.2em;color: black;border-radius: 0.25em;background-color: #f0f8ff;}#sk-container-id-2 input.sk-toggleable__control:checked~div.sk-toggleable__content {max-height: 200px;max-width: 100%;overflow: auto;}#sk-container-id-2 input.sk-toggleable__control:checked~label.sk-toggleable__label-arrow:before {content: \"▾\";}#sk-container-id-2 div.sk-estimator input.sk-toggleable__control:checked~label.sk-toggleable__label {background-color: #d4ebff;}#sk-container-id-2 div.sk-label input.sk-toggleable__control:checked~label.sk-toggleable__label {background-color: #d4ebff;}#sk-container-id-2 input.sk-hidden--visually {border: 0;clip: rect(1px 1px 1px 1px);clip: rect(1px, 1px, 1px, 1px);height: 1px;margin: -1px;overflow: hidden;padding: 0;position: absolute;width: 1px;}#sk-container-id-2 div.sk-estimator {font-family: monospace;background-color: #f0f8ff;border: 1px dotted black;border-radius: 0.25em;box-sizing: border-box;margin-bottom: 0.5em;}#sk-container-id-2 div.sk-estimator:hover {background-color: #d4ebff;}#sk-container-id-2 div.sk-parallel-item::after {content: \"\";width: 100%;border-bottom: 1px solid gray;flex-grow: 1;}#sk-container-id-2 div.sk-label:hover label.sk-toggleable__label {background-color: #d4ebff;}#sk-container-id-2 div.sk-serial::before {content: \"\";position: absolute;border-left: 1px solid gray;box-sizing: border-box;top: 0;bottom: 0;left: 50%;z-index: 0;}#sk-container-id-2 div.sk-serial {display: flex;flex-direction: column;align-items: center;background-color: white;padding-right: 0.2em;padding-left: 0.2em;position: relative;}#sk-container-id-2 div.sk-item {position: relative;z-index: 1;}#sk-container-id-2 div.sk-parallel {display: flex;align-items: stretch;justify-content: center;background-color: white;position: relative;}#sk-container-id-2 div.sk-item::before, #sk-container-id-2 div.sk-parallel-item::before {content: \"\";position: absolute;border-left: 1px solid gray;box-sizing: border-box;top: 0;bottom: 0;left: 50%;z-index: -1;}#sk-container-id-2 div.sk-parallel-item {display: flex;flex-direction: column;z-index: 1;position: relative;background-color: white;}#sk-container-id-2 div.sk-parallel-item:first-child::after {align-self: flex-end;width: 50%;}#sk-container-id-2 div.sk-parallel-item:last-child::after {align-self: flex-start;width: 50%;}#sk-container-id-2 div.sk-parallel-item:only-child::after {width: 0;}#sk-container-id-2 div.sk-dashed-wrapped {border: 1px dashed gray;margin: 0 0.4em 0.5em 0.4em;box-sizing: border-box;padding-bottom: 0.4em;background-color: white;}#sk-container-id-2 div.sk-label label {font-family: monospace;font-weight: bold;display: inline-block;line-height: 1.2em;}#sk-container-id-2 div.sk-label-container {text-align: center;}#sk-container-id-2 div.sk-container {/* jupyter's `normalize.less` sets `[hidden] { display: none; }` but bootstrap.min.css set `[hidden] { display: none !important; }` so we also need the `!important` here to be able to override the default hidden behavior on the sphinx rendered scikit-learn.org. See: https://github.com/scikit-learn/scikit-learn/issues/21755 */display: inline-block !important;position: relative;}#sk-container-id-2 div.sk-text-repr-fallback {display: none;}</style><div id=\"sk-container-id-2\" class=\"sk-top-container\"><div class=\"sk-text-repr-fallback\"><pre>Pipeline(steps=[(&#x27;processor&#x27;,\n",
       "                 ColumnTransformer(transformers=[(&#x27;num_col&#x27;, StandardScaler(),\n",
       "                                                  Index([&#x27;Assessed Value&#x27;, &#x27;Sale Amount&#x27;, &#x27;Sales Ratio&#x27;, &#x27;List Year&#x27;], dtype=&#x27;object&#x27;)),\n",
       "                                                 (&#x27;cat_col&#x27;,\n",
       "                                                  OneHotEncoder(handle_unknown=&#x27;ignore&#x27;),\n",
       "                                                  [&#x27;Town&#x27;])])),\n",
       "                (&#x27;model&#x27;,\n",
       "                 XGBClassifier(base_score=None, booster=None, callbacks=None,\n",
       "                               colsample_bylevel=None, colsample_bynode=None,\n",
       "                               colsampl...\n",
       "                               feature_types=None, gamma=None, grow_policy=None,\n",
       "                               importance_type=None,\n",
       "                               interaction_constraints=None, learning_rate=0.2,\n",
       "                               max_bin=None, max_cat_threshold=None,\n",
       "                               max_cat_to_onehot=None, max_delta_step=None,\n",
       "                               max_depth=None, max_leaves=None,\n",
       "                               min_child_weight=None, missing=nan,\n",
       "                               monotone_constraints=None, multi_strategy=None,\n",
       "                               n_estimators=1000, n_jobs=None,\n",
       "                               num_parallel_tree=None,\n",
       "                               objective=&#x27;multi:softprob&#x27;, ...))])</pre><b>In a Jupyter environment, please rerun this cell to show the HTML representation or trust the notebook. <br />On GitHub, the HTML representation is unable to render, please try loading this page with nbviewer.org.</b></div><div class=\"sk-container\" hidden><div class=\"sk-item sk-dashed-wrapped\"><div class=\"sk-label-container\"><div class=\"sk-label sk-toggleable\"><input class=\"sk-toggleable__control sk-hidden--visually\" id=\"sk-estimator-id-8\" type=\"checkbox\" ><label for=\"sk-estimator-id-8\" class=\"sk-toggleable__label sk-toggleable__label-arrow\">Pipeline</label><div class=\"sk-toggleable__content\"><pre>Pipeline(steps=[(&#x27;processor&#x27;,\n",
       "                 ColumnTransformer(transformers=[(&#x27;num_col&#x27;, StandardScaler(),\n",
       "                                                  Index([&#x27;Assessed Value&#x27;, &#x27;Sale Amount&#x27;, &#x27;Sales Ratio&#x27;, &#x27;List Year&#x27;], dtype=&#x27;object&#x27;)),\n",
       "                                                 (&#x27;cat_col&#x27;,\n",
       "                                                  OneHotEncoder(handle_unknown=&#x27;ignore&#x27;),\n",
       "                                                  [&#x27;Town&#x27;])])),\n",
       "                (&#x27;model&#x27;,\n",
       "                 XGBClassifier(base_score=None, booster=None, callbacks=None,\n",
       "                               colsample_bylevel=None, colsample_bynode=None,\n",
       "                               colsampl...\n",
       "                               feature_types=None, gamma=None, grow_policy=None,\n",
       "                               importance_type=None,\n",
       "                               interaction_constraints=None, learning_rate=0.2,\n",
       "                               max_bin=None, max_cat_threshold=None,\n",
       "                               max_cat_to_onehot=None, max_delta_step=None,\n",
       "                               max_depth=None, max_leaves=None,\n",
       "                               min_child_weight=None, missing=nan,\n",
       "                               monotone_constraints=None, multi_strategy=None,\n",
       "                               n_estimators=1000, n_jobs=None,\n",
       "                               num_parallel_tree=None,\n",
       "                               objective=&#x27;multi:softprob&#x27;, ...))])</pre></div></div></div><div class=\"sk-serial\"><div class=\"sk-item sk-dashed-wrapped\"><div class=\"sk-label-container\"><div class=\"sk-label sk-toggleable\"><input class=\"sk-toggleable__control sk-hidden--visually\" id=\"sk-estimator-id-9\" type=\"checkbox\" ><label for=\"sk-estimator-id-9\" class=\"sk-toggleable__label sk-toggleable__label-arrow\">processor: ColumnTransformer</label><div class=\"sk-toggleable__content\"><pre>ColumnTransformer(transformers=[(&#x27;num_col&#x27;, StandardScaler(),\n",
       "                                 Index([&#x27;Assessed Value&#x27;, &#x27;Sale Amount&#x27;, &#x27;Sales Ratio&#x27;, &#x27;List Year&#x27;], dtype=&#x27;object&#x27;)),\n",
       "                                (&#x27;cat_col&#x27;,\n",
       "                                 OneHotEncoder(handle_unknown=&#x27;ignore&#x27;),\n",
       "                                 [&#x27;Town&#x27;])])</pre></div></div></div><div class=\"sk-parallel\"><div class=\"sk-parallel-item\"><div class=\"sk-item\"><div class=\"sk-label-container\"><div class=\"sk-label sk-toggleable\"><input class=\"sk-toggleable__control sk-hidden--visually\" id=\"sk-estimator-id-10\" type=\"checkbox\" ><label for=\"sk-estimator-id-10\" class=\"sk-toggleable__label sk-toggleable__label-arrow\">num_col</label><div class=\"sk-toggleable__content\"><pre>Index([&#x27;Assessed Value&#x27;, &#x27;Sale Amount&#x27;, &#x27;Sales Ratio&#x27;, &#x27;List Year&#x27;], dtype=&#x27;object&#x27;)</pre></div></div></div><div class=\"sk-serial\"><div class=\"sk-item\"><div class=\"sk-estimator sk-toggleable\"><input class=\"sk-toggleable__control sk-hidden--visually\" id=\"sk-estimator-id-11\" type=\"checkbox\" ><label for=\"sk-estimator-id-11\" class=\"sk-toggleable__label sk-toggleable__label-arrow\">StandardScaler</label><div class=\"sk-toggleable__content\"><pre>StandardScaler()</pre></div></div></div></div></div></div><div class=\"sk-parallel-item\"><div class=\"sk-item\"><div class=\"sk-label-container\"><div class=\"sk-label sk-toggleable\"><input class=\"sk-toggleable__control sk-hidden--visually\" id=\"sk-estimator-id-12\" type=\"checkbox\" ><label for=\"sk-estimator-id-12\" class=\"sk-toggleable__label sk-toggleable__label-arrow\">cat_col</label><div class=\"sk-toggleable__content\"><pre>[&#x27;Town&#x27;]</pre></div></div></div><div class=\"sk-serial\"><div class=\"sk-item\"><div class=\"sk-estimator sk-toggleable\"><input class=\"sk-toggleable__control sk-hidden--visually\" id=\"sk-estimator-id-13\" type=\"checkbox\" ><label for=\"sk-estimator-id-13\" class=\"sk-toggleable__label sk-toggleable__label-arrow\">OneHotEncoder</label><div class=\"sk-toggleable__content\"><pre>OneHotEncoder(handle_unknown=&#x27;ignore&#x27;)</pre></div></div></div></div></div></div></div></div><div class=\"sk-item\"><div class=\"sk-estimator sk-toggleable\"><input class=\"sk-toggleable__control sk-hidden--visually\" id=\"sk-estimator-id-14\" type=\"checkbox\" ><label for=\"sk-estimator-id-14\" class=\"sk-toggleable__label sk-toggleable__label-arrow\">XGBClassifier</label><div class=\"sk-toggleable__content\"><pre>XGBClassifier(base_score=None, booster=None, callbacks=None,\n",
       "              colsample_bylevel=None, colsample_bynode=None,\n",
       "              colsample_bytree=None, device=None, early_stopping_rounds=None,\n",
       "              enable_categorical=False, eval_metric=None, feature_types=None,\n",
       "              gamma=None, grow_policy=None, importance_type=None,\n",
       "              interaction_constraints=None, learning_rate=0.2, max_bin=None,\n",
       "              max_cat_threshold=None, max_cat_to_onehot=None,\n",
       "              max_delta_step=None, max_depth=None, max_leaves=None,\n",
       "              min_child_weight=None, missing=nan, monotone_constraints=None,\n",
       "              multi_strategy=None, n_estimators=1000, n_jobs=None,\n",
       "              num_parallel_tree=None, objective=&#x27;multi:softprob&#x27;, ...)</pre></div></div></div></div></div></div></div>"
      ],
      "text/plain": [
       "Pipeline(steps=[('processor',\n",
       "                 ColumnTransformer(transformers=[('num_col', StandardScaler(),\n",
       "                                                  Index(['Assessed Value', 'Sale Amount', 'Sales Ratio', 'List Year'], dtype='object')),\n",
       "                                                 ('cat_col',\n",
       "                                                  OneHotEncoder(handle_unknown='ignore'),\n",
       "                                                  ['Town'])])),\n",
       "                ('model',\n",
       "                 XGBClassifier(base_score=None, booster=None, callbacks=None,\n",
       "                               colsample_bylevel=None, colsample_bynode=None,\n",
       "                               colsampl...\n",
       "                               feature_types=None, gamma=None, grow_policy=None,\n",
       "                               importance_type=None,\n",
       "                               interaction_constraints=None, learning_rate=0.2,\n",
       "                               max_bin=None, max_cat_threshold=None,\n",
       "                               max_cat_to_onehot=None, max_delta_step=None,\n",
       "                               max_depth=None, max_leaves=None,\n",
       "                               min_child_weight=None, missing=nan,\n",
       "                               monotone_constraints=None, multi_strategy=None,\n",
       "                               n_estimators=1000, n_jobs=None,\n",
       "                               num_parallel_tree=None,\n",
       "                               objective='multi:softprob', ...))])"
      ]
     },
     "execution_count": 43,
     "metadata": {},
     "output_type": "execute_result"
    }
   ],
   "source": [
    "XGB_model.fit(X_train_s, y_train_s)"
   ]
  },
  {
   "cell_type": "code",
   "execution_count": 44,
   "id": "887b2c6f-e296-4707-8471-c7da6b312133",
   "metadata": {
    "tags": []
   },
   "outputs": [],
   "source": [
    "pred_XGB = XGB_model.predict(X_test_s)"
   ]
  },
  {
   "cell_type": "code",
   "execution_count": 45,
   "id": "281af1bf-cc44-42da-bfb8-545ffd2c040a",
   "metadata": {
    "tags": []
   },
   "outputs": [
    {
     "data": {
      "text/plain": [
       "0.7896333333333333"
      ]
     },
     "execution_count": 45,
     "metadata": {},
     "output_type": "execute_result"
    }
   ],
   "source": [
    "accuracy_score(y_test_s, pred_XGB)"
   ]
  },
  {
   "cell_type": "code",
   "execution_count": 46,
   "id": "862c7ecd-943f-43c2-ba02-d3c6ef0bfbb6",
   "metadata": {
    "tags": []
   },
   "outputs": [],
   "source": [
    "params = {\n",
    "   'learning_rate': [0.3, 0.5],\n",
    "   'n_estimators': [500, 2000, 3000],\n",
    "   'max_depth': [5]}"
   ]
  },
  {
   "cell_type": "code",
   "execution_count": 47,
   "id": "638bbe9d-f9fa-4bb5-a801-860a869682cb",
   "metadata": {
    "tags": []
   },
   "outputs": [],
   "source": [
    "gsearch = GridSearchCV(estimator=XGBClassifier(), param_grid = params, scoring ='accuracy', verbose = 2, cv = 3) "
   ]
  },
  {
   "cell_type": "code",
   "execution_count": 48,
   "id": "c7591257-ba59-4845-864f-e6662bc701bc",
   "metadata": {
    "tags": []
   },
   "outputs": [],
   "source": [
    "XGB_grid_model = Pipeline([('processor', processor), \n",
    "                ('model', gsearch)])"
   ]
  },
  {
   "cell_type": "code",
   "execution_count": 49,
   "id": "992789a9-c9a9-4f2e-a732-2f62d3f66cf3",
   "metadata": {
    "tags": []
   },
   "outputs": [
    {
     "name": "stdout",
     "output_type": "stream",
     "text": [
      "Fitting 3 folds for each of 6 candidates, totalling 18 fits\n",
      "[CV] END ...learning_rate=0.3, max_depth=5, n_estimators=500; total time=  11.2s\n",
      "[CV] END ...learning_rate=0.3, max_depth=5, n_estimators=500; total time=  10.8s\n",
      "[CV] END ...learning_rate=0.3, max_depth=5, n_estimators=500; total time=  11.7s\n",
      "[CV] END ..learning_rate=0.3, max_depth=5, n_estimators=2000; total time=  50.9s\n",
      "[CV] END ..learning_rate=0.3, max_depth=5, n_estimators=2000; total time= 1.0min\n",
      "[CV] END ..learning_rate=0.3, max_depth=5, n_estimators=2000; total time= 1.0min\n",
      "[CV] END ..learning_rate=0.3, max_depth=5, n_estimators=3000; total time= 1.6min\n",
      "[CV] END ..learning_rate=0.3, max_depth=5, n_estimators=3000; total time= 1.6min\n",
      "[CV] END ..learning_rate=0.3, max_depth=5, n_estimators=3000; total time= 1.6min\n",
      "[CV] END ...learning_rate=0.5, max_depth=5, n_estimators=500; total time=  12.9s\n",
      "[CV] END ...learning_rate=0.5, max_depth=5, n_estimators=500; total time=  11.8s\n",
      "[CV] END ...learning_rate=0.5, max_depth=5, n_estimators=500; total time=  11.2s\n",
      "[CV] END ..learning_rate=0.5, max_depth=5, n_estimators=2000; total time=  48.2s\n",
      "[CV] END ..learning_rate=0.5, max_depth=5, n_estimators=2000; total time=  50.0s\n",
      "[CV] END ..learning_rate=0.5, max_depth=5, n_estimators=2000; total time=  56.3s\n",
      "[CV] END ..learning_rate=0.5, max_depth=5, n_estimators=3000; total time= 1.3min\n",
      "[CV] END ..learning_rate=0.5, max_depth=5, n_estimators=3000; total time= 1.5min\n",
      "[CV] END ..learning_rate=0.5, max_depth=5, n_estimators=3000; total time= 1.2min\n"
     ]
    },
    {
     "data": {
      "text/html": [
       "<style>#sk-container-id-3 {color: black;background-color: white;}#sk-container-id-3 pre{padding: 0;}#sk-container-id-3 div.sk-toggleable {background-color: white;}#sk-container-id-3 label.sk-toggleable__label {cursor: pointer;display: block;width: 100%;margin-bottom: 0;padding: 0.3em;box-sizing: border-box;text-align: center;}#sk-container-id-3 label.sk-toggleable__label-arrow:before {content: \"▸\";float: left;margin-right: 0.25em;color: #696969;}#sk-container-id-3 label.sk-toggleable__label-arrow:hover:before {color: black;}#sk-container-id-3 div.sk-estimator:hover label.sk-toggleable__label-arrow:before {color: black;}#sk-container-id-3 div.sk-toggleable__content {max-height: 0;max-width: 0;overflow: hidden;text-align: left;background-color: #f0f8ff;}#sk-container-id-3 div.sk-toggleable__content pre {margin: 0.2em;color: black;border-radius: 0.25em;background-color: #f0f8ff;}#sk-container-id-3 input.sk-toggleable__control:checked~div.sk-toggleable__content {max-height: 200px;max-width: 100%;overflow: auto;}#sk-container-id-3 input.sk-toggleable__control:checked~label.sk-toggleable__label-arrow:before {content: \"▾\";}#sk-container-id-3 div.sk-estimator input.sk-toggleable__control:checked~label.sk-toggleable__label {background-color: #d4ebff;}#sk-container-id-3 div.sk-label input.sk-toggleable__control:checked~label.sk-toggleable__label {background-color: #d4ebff;}#sk-container-id-3 input.sk-hidden--visually {border: 0;clip: rect(1px 1px 1px 1px);clip: rect(1px, 1px, 1px, 1px);height: 1px;margin: -1px;overflow: hidden;padding: 0;position: absolute;width: 1px;}#sk-container-id-3 div.sk-estimator {font-family: monospace;background-color: #f0f8ff;border: 1px dotted black;border-radius: 0.25em;box-sizing: border-box;margin-bottom: 0.5em;}#sk-container-id-3 div.sk-estimator:hover {background-color: #d4ebff;}#sk-container-id-3 div.sk-parallel-item::after {content: \"\";width: 100%;border-bottom: 1px solid gray;flex-grow: 1;}#sk-container-id-3 div.sk-label:hover label.sk-toggleable__label {background-color: #d4ebff;}#sk-container-id-3 div.sk-serial::before {content: \"\";position: absolute;border-left: 1px solid gray;box-sizing: border-box;top: 0;bottom: 0;left: 50%;z-index: 0;}#sk-container-id-3 div.sk-serial {display: flex;flex-direction: column;align-items: center;background-color: white;padding-right: 0.2em;padding-left: 0.2em;position: relative;}#sk-container-id-3 div.sk-item {position: relative;z-index: 1;}#sk-container-id-3 div.sk-parallel {display: flex;align-items: stretch;justify-content: center;background-color: white;position: relative;}#sk-container-id-3 div.sk-item::before, #sk-container-id-3 div.sk-parallel-item::before {content: \"\";position: absolute;border-left: 1px solid gray;box-sizing: border-box;top: 0;bottom: 0;left: 50%;z-index: -1;}#sk-container-id-3 div.sk-parallel-item {display: flex;flex-direction: column;z-index: 1;position: relative;background-color: white;}#sk-container-id-3 div.sk-parallel-item:first-child::after {align-self: flex-end;width: 50%;}#sk-container-id-3 div.sk-parallel-item:last-child::after {align-self: flex-start;width: 50%;}#sk-container-id-3 div.sk-parallel-item:only-child::after {width: 0;}#sk-container-id-3 div.sk-dashed-wrapped {border: 1px dashed gray;margin: 0 0.4em 0.5em 0.4em;box-sizing: border-box;padding-bottom: 0.4em;background-color: white;}#sk-container-id-3 div.sk-label label {font-family: monospace;font-weight: bold;display: inline-block;line-height: 1.2em;}#sk-container-id-3 div.sk-label-container {text-align: center;}#sk-container-id-3 div.sk-container {/* jupyter's `normalize.less` sets `[hidden] { display: none; }` but bootstrap.min.css set `[hidden] { display: none !important; }` so we also need the `!important` here to be able to override the default hidden behavior on the sphinx rendered scikit-learn.org. See: https://github.com/scikit-learn/scikit-learn/issues/21755 */display: inline-block !important;position: relative;}#sk-container-id-3 div.sk-text-repr-fallback {display: none;}</style><div id=\"sk-container-id-3\" class=\"sk-top-container\"><div class=\"sk-text-repr-fallback\"><pre>Pipeline(steps=[(&#x27;processor&#x27;,\n",
       "                 ColumnTransformer(transformers=[(&#x27;num_col&#x27;, StandardScaler(),\n",
       "                                                  Index([&#x27;Assessed Value&#x27;, &#x27;Sale Amount&#x27;, &#x27;Sales Ratio&#x27;, &#x27;List Year&#x27;], dtype=&#x27;object&#x27;)),\n",
       "                                                 (&#x27;cat_col&#x27;,\n",
       "                                                  OneHotEncoder(handle_unknown=&#x27;ignore&#x27;),\n",
       "                                                  [&#x27;Town&#x27;])])),\n",
       "                (&#x27;model&#x27;,\n",
       "                 GridSearchCV(cv=3,\n",
       "                              estimator=XGBClassifier(base_score=None,\n",
       "                                                      booster=None,\n",
       "                                                      callbacks=None,\n",
       "                                                      colsample_bylevel=None,\n",
       "                                                      co...\n",
       "                                                      max_cat_threshold=None,\n",
       "                                                      max_cat_to_onehot=None,\n",
       "                                                      max_delta_step=None,\n",
       "                                                      max_depth=None,\n",
       "                                                      max_leaves=None,\n",
       "                                                      min_child_weight=None,\n",
       "                                                      missing=nan,\n",
       "                                                      monotone_constraints=None,\n",
       "                                                      multi_strategy=None,\n",
       "                                                      n_estimators=None,\n",
       "                                                      n_jobs=None,\n",
       "                                                      num_parallel_tree=None,\n",
       "                                                      random_state=None, ...),\n",
       "                              param_grid={&#x27;learning_rate&#x27;: [0.3, 0.5],\n",
       "                                          &#x27;max_depth&#x27;: [5],\n",
       "                                          &#x27;n_estimators&#x27;: [500, 2000, 3000]},\n",
       "                              scoring=&#x27;accuracy&#x27;, verbose=2))])</pre><b>In a Jupyter environment, please rerun this cell to show the HTML representation or trust the notebook. <br />On GitHub, the HTML representation is unable to render, please try loading this page with nbviewer.org.</b></div><div class=\"sk-container\" hidden><div class=\"sk-item sk-dashed-wrapped\"><div class=\"sk-label-container\"><div class=\"sk-label sk-toggleable\"><input class=\"sk-toggleable__control sk-hidden--visually\" id=\"sk-estimator-id-15\" type=\"checkbox\" ><label for=\"sk-estimator-id-15\" class=\"sk-toggleable__label sk-toggleable__label-arrow\">Pipeline</label><div class=\"sk-toggleable__content\"><pre>Pipeline(steps=[(&#x27;processor&#x27;,\n",
       "                 ColumnTransformer(transformers=[(&#x27;num_col&#x27;, StandardScaler(),\n",
       "                                                  Index([&#x27;Assessed Value&#x27;, &#x27;Sale Amount&#x27;, &#x27;Sales Ratio&#x27;, &#x27;List Year&#x27;], dtype=&#x27;object&#x27;)),\n",
       "                                                 (&#x27;cat_col&#x27;,\n",
       "                                                  OneHotEncoder(handle_unknown=&#x27;ignore&#x27;),\n",
       "                                                  [&#x27;Town&#x27;])])),\n",
       "                (&#x27;model&#x27;,\n",
       "                 GridSearchCV(cv=3,\n",
       "                              estimator=XGBClassifier(base_score=None,\n",
       "                                                      booster=None,\n",
       "                                                      callbacks=None,\n",
       "                                                      colsample_bylevel=None,\n",
       "                                                      co...\n",
       "                                                      max_cat_threshold=None,\n",
       "                                                      max_cat_to_onehot=None,\n",
       "                                                      max_delta_step=None,\n",
       "                                                      max_depth=None,\n",
       "                                                      max_leaves=None,\n",
       "                                                      min_child_weight=None,\n",
       "                                                      missing=nan,\n",
       "                                                      monotone_constraints=None,\n",
       "                                                      multi_strategy=None,\n",
       "                                                      n_estimators=None,\n",
       "                                                      n_jobs=None,\n",
       "                                                      num_parallel_tree=None,\n",
       "                                                      random_state=None, ...),\n",
       "                              param_grid={&#x27;learning_rate&#x27;: [0.3, 0.5],\n",
       "                                          &#x27;max_depth&#x27;: [5],\n",
       "                                          &#x27;n_estimators&#x27;: [500, 2000, 3000]},\n",
       "                              scoring=&#x27;accuracy&#x27;, verbose=2))])</pre></div></div></div><div class=\"sk-serial\"><div class=\"sk-item sk-dashed-wrapped\"><div class=\"sk-label-container\"><div class=\"sk-label sk-toggleable\"><input class=\"sk-toggleable__control sk-hidden--visually\" id=\"sk-estimator-id-16\" type=\"checkbox\" ><label for=\"sk-estimator-id-16\" class=\"sk-toggleable__label sk-toggleable__label-arrow\">processor: ColumnTransformer</label><div class=\"sk-toggleable__content\"><pre>ColumnTransformer(transformers=[(&#x27;num_col&#x27;, StandardScaler(),\n",
       "                                 Index([&#x27;Assessed Value&#x27;, &#x27;Sale Amount&#x27;, &#x27;Sales Ratio&#x27;, &#x27;List Year&#x27;], dtype=&#x27;object&#x27;)),\n",
       "                                (&#x27;cat_col&#x27;,\n",
       "                                 OneHotEncoder(handle_unknown=&#x27;ignore&#x27;),\n",
       "                                 [&#x27;Town&#x27;])])</pre></div></div></div><div class=\"sk-parallel\"><div class=\"sk-parallel-item\"><div class=\"sk-item\"><div class=\"sk-label-container\"><div class=\"sk-label sk-toggleable\"><input class=\"sk-toggleable__control sk-hidden--visually\" id=\"sk-estimator-id-17\" type=\"checkbox\" ><label for=\"sk-estimator-id-17\" class=\"sk-toggleable__label sk-toggleable__label-arrow\">num_col</label><div class=\"sk-toggleable__content\"><pre>Index([&#x27;Assessed Value&#x27;, &#x27;Sale Amount&#x27;, &#x27;Sales Ratio&#x27;, &#x27;List Year&#x27;], dtype=&#x27;object&#x27;)</pre></div></div></div><div class=\"sk-serial\"><div class=\"sk-item\"><div class=\"sk-estimator sk-toggleable\"><input class=\"sk-toggleable__control sk-hidden--visually\" id=\"sk-estimator-id-18\" type=\"checkbox\" ><label for=\"sk-estimator-id-18\" class=\"sk-toggleable__label sk-toggleable__label-arrow\">StandardScaler</label><div class=\"sk-toggleable__content\"><pre>StandardScaler()</pre></div></div></div></div></div></div><div class=\"sk-parallel-item\"><div class=\"sk-item\"><div class=\"sk-label-container\"><div class=\"sk-label sk-toggleable\"><input class=\"sk-toggleable__control sk-hidden--visually\" id=\"sk-estimator-id-19\" type=\"checkbox\" ><label for=\"sk-estimator-id-19\" class=\"sk-toggleable__label sk-toggleable__label-arrow\">cat_col</label><div class=\"sk-toggleable__content\"><pre>[&#x27;Town&#x27;]</pre></div></div></div><div class=\"sk-serial\"><div class=\"sk-item\"><div class=\"sk-estimator sk-toggleable\"><input class=\"sk-toggleable__control sk-hidden--visually\" id=\"sk-estimator-id-20\" type=\"checkbox\" ><label for=\"sk-estimator-id-20\" class=\"sk-toggleable__label sk-toggleable__label-arrow\">OneHotEncoder</label><div class=\"sk-toggleable__content\"><pre>OneHotEncoder(handle_unknown=&#x27;ignore&#x27;)</pre></div></div></div></div></div></div></div></div><div class=\"sk-item sk-dashed-wrapped\"><div class=\"sk-label-container\"><div class=\"sk-label sk-toggleable\"><input class=\"sk-toggleable__control sk-hidden--visually\" id=\"sk-estimator-id-21\" type=\"checkbox\" ><label for=\"sk-estimator-id-21\" class=\"sk-toggleable__label sk-toggleable__label-arrow\">model: GridSearchCV</label><div class=\"sk-toggleable__content\"><pre>GridSearchCV(cv=3,\n",
       "             estimator=XGBClassifier(base_score=None, booster=None,\n",
       "                                     callbacks=None, colsample_bylevel=None,\n",
       "                                     colsample_bynode=None,\n",
       "                                     colsample_bytree=None, device=None,\n",
       "                                     early_stopping_rounds=None,\n",
       "                                     enable_categorical=False, eval_metric=None,\n",
       "                                     feature_types=None, gamma=None,\n",
       "                                     grow_policy=None, importance_type=None,\n",
       "                                     interaction_constraints=None,\n",
       "                                     learning_rate=None,...\n",
       "                                     max_cat_threshold=None,\n",
       "                                     max_cat_to_onehot=None,\n",
       "                                     max_delta_step=None, max_depth=None,\n",
       "                                     max_leaves=None, min_child_weight=None,\n",
       "                                     missing=nan, monotone_constraints=None,\n",
       "                                     multi_strategy=None, n_estimators=None,\n",
       "                                     n_jobs=None, num_parallel_tree=None,\n",
       "                                     random_state=None, ...),\n",
       "             param_grid={&#x27;learning_rate&#x27;: [0.3, 0.5], &#x27;max_depth&#x27;: [5],\n",
       "                         &#x27;n_estimators&#x27;: [500, 2000, 3000]},\n",
       "             scoring=&#x27;accuracy&#x27;, verbose=2)</pre></div></div></div><div class=\"sk-parallel\"><div class=\"sk-parallel-item\"><div class=\"sk-item\"><div class=\"sk-label-container\"><div class=\"sk-label sk-toggleable\"><input class=\"sk-toggleable__control sk-hidden--visually\" id=\"sk-estimator-id-22\" type=\"checkbox\" ><label for=\"sk-estimator-id-22\" class=\"sk-toggleable__label sk-toggleable__label-arrow\">estimator: XGBClassifier</label><div class=\"sk-toggleable__content\"><pre>XGBClassifier(base_score=None, booster=None, callbacks=None,\n",
       "              colsample_bylevel=None, colsample_bynode=None,\n",
       "              colsample_bytree=None, device=None, early_stopping_rounds=None,\n",
       "              enable_categorical=False, eval_metric=None, feature_types=None,\n",
       "              gamma=None, grow_policy=None, importance_type=None,\n",
       "              interaction_constraints=None, learning_rate=None, max_bin=None,\n",
       "              max_cat_threshold=None, max_cat_to_onehot=None,\n",
       "              max_delta_step=None, max_depth=None, max_leaves=None,\n",
       "              min_child_weight=None, missing=nan, monotone_constraints=None,\n",
       "              multi_strategy=None, n_estimators=None, n_jobs=None,\n",
       "              num_parallel_tree=None, random_state=None, ...)</pre></div></div></div><div class=\"sk-serial\"><div class=\"sk-item\"><div class=\"sk-estimator sk-toggleable\"><input class=\"sk-toggleable__control sk-hidden--visually\" id=\"sk-estimator-id-23\" type=\"checkbox\" ><label for=\"sk-estimator-id-23\" class=\"sk-toggleable__label sk-toggleable__label-arrow\">XGBClassifier</label><div class=\"sk-toggleable__content\"><pre>XGBClassifier(base_score=None, booster=None, callbacks=None,\n",
       "              colsample_bylevel=None, colsample_bynode=None,\n",
       "              colsample_bytree=None, device=None, early_stopping_rounds=None,\n",
       "              enable_categorical=False, eval_metric=None, feature_types=None,\n",
       "              gamma=None, grow_policy=None, importance_type=None,\n",
       "              interaction_constraints=None, learning_rate=None, max_bin=None,\n",
       "              max_cat_threshold=None, max_cat_to_onehot=None,\n",
       "              max_delta_step=None, max_depth=None, max_leaves=None,\n",
       "              min_child_weight=None, missing=nan, monotone_constraints=None,\n",
       "              multi_strategy=None, n_estimators=None, n_jobs=None,\n",
       "              num_parallel_tree=None, random_state=None, ...)</pre></div></div></div></div></div></div></div></div></div></div></div></div>"
      ],
      "text/plain": [
       "Pipeline(steps=[('processor',\n",
       "                 ColumnTransformer(transformers=[('num_col', StandardScaler(),\n",
       "                                                  Index(['Assessed Value', 'Sale Amount', 'Sales Ratio', 'List Year'], dtype='object')),\n",
       "                                                 ('cat_col',\n",
       "                                                  OneHotEncoder(handle_unknown='ignore'),\n",
       "                                                  ['Town'])])),\n",
       "                ('model',\n",
       "                 GridSearchCV(cv=3,\n",
       "                              estimator=XGBClassifier(base_score=None,\n",
       "                                                      booster=None,\n",
       "                                                      callbacks=None,\n",
       "                                                      colsample_bylevel=None,\n",
       "                                                      co...\n",
       "                                                      max_cat_threshold=None,\n",
       "                                                      max_cat_to_onehot=None,\n",
       "                                                      max_delta_step=None,\n",
       "                                                      max_depth=None,\n",
       "                                                      max_leaves=None,\n",
       "                                                      min_child_weight=None,\n",
       "                                                      missing=nan,\n",
       "                                                      monotone_constraints=None,\n",
       "                                                      multi_strategy=None,\n",
       "                                                      n_estimators=None,\n",
       "                                                      n_jobs=None,\n",
       "                                                      num_parallel_tree=None,\n",
       "                                                      random_state=None, ...),\n",
       "                              param_grid={'learning_rate': [0.3, 0.5],\n",
       "                                          'max_depth': [5],\n",
       "                                          'n_estimators': [500, 2000, 3000]},\n",
       "                              scoring='accuracy', verbose=2))])"
      ]
     },
     "execution_count": 49,
     "metadata": {},
     "output_type": "execute_result"
    }
   ],
   "source": [
    "XGB_grid_model.fit(X_train_s, y_train_s)"
   ]
  },
  {
   "cell_type": "code",
   "execution_count": 50,
   "id": "6cfdc0f7-19df-4f36-abfb-95a0bc57542f",
   "metadata": {
    "tags": []
   },
   "outputs": [
    {
     "data": {
      "text/plain": [
       "{'learning_rate': 0.3, 'max_depth': 5, 'n_estimators': 500}"
      ]
     },
     "execution_count": 50,
     "metadata": {},
     "output_type": "execute_result"
    }
   ],
   "source": [
    "gsearch.best_params_"
   ]
  },
  {
   "cell_type": "code",
   "execution_count": 51,
   "id": "eb6baa0d-0047-4586-aa86-52c55bfcf05e",
   "metadata": {
    "tags": []
   },
   "outputs": [],
   "source": [
    "final_pred = XGB_grid_model.predict(X_test_s)"
   ]
  },
  {
   "cell_type": "code",
   "execution_count": 52,
   "id": "63b95d01-9006-4972-9acb-64899e519a99",
   "metadata": {
    "tags": []
   },
   "outputs": [
    {
     "data": {
      "text/plain": [
       "0.7930666666666667"
      ]
     },
     "execution_count": 52,
     "metadata": {},
     "output_type": "execute_result"
    }
   ],
   "source": [
    "accuracy_score(y_test_s, final_pred)\n",
    "\n",
    "#XGB model is more accurate, and way quicker so this method will be used "
   ]
  },
  {
   "cell_type": "code",
   "execution_count": 54,
   "id": "bb5c4ddd-b166-4e93-a23c-08f8132658bf",
   "metadata": {
    "tags": []
   },
   "outputs": [],
   "source": [
    "df_valid = df.dropna(subset = 'Property Type')"
   ]
  },
  {
   "cell_type": "code",
   "execution_count": 55,
   "id": "a562b6b2-12e5-4ca9-b787-c21cbbbe7b22",
   "metadata": {
    "tags": []
   },
   "outputs": [],
   "source": [
    "df_null = df[df['Property Type'].isnull()==True]"
   ]
  },
  {
   "cell_type": "code",
   "execution_count": 56,
   "id": "1c70d483-ab7a-4051-abd2-158838329cdf",
   "metadata": {
    "tags": []
   },
   "outputs": [],
   "source": [
    "df_null = df_null.drop('Property Type', axis=1)"
   ]
  },
  {
   "cell_type": "code",
   "execution_count": 57,
   "id": "33efe499-7859-459e-8f8b-d40605f2ff1a",
   "metadata": {
    "tags": []
   },
   "outputs": [],
   "source": [
    "values =  XGB_grid_model.predict(df_null)"
   ]
  },
  {
   "cell_type": "code",
   "execution_count": 58,
   "id": "62a2c834-c5a8-4b35-9d51-328b1e09d040",
   "metadata": {
    "tags": []
   },
   "outputs": [],
   "source": [
    "values = pd.DataFrame(values, index=None, columns=['Property Type'])"
   ]
  },
  {
   "cell_type": "code",
   "execution_count": 59,
   "id": "386e798e-c0bb-4b52-98fc-16fb3ac2e550",
   "metadata": {
    "tags": []
   },
   "outputs": [],
   "source": [
    "values.reset_index(inplace = True, drop = True)"
   ]
  },
  {
   "cell_type": "code",
   "execution_count": 60,
   "id": "29d8f110-55a3-486a-a679-c4d23c531bab",
   "metadata": {
    "tags": []
   },
   "outputs": [],
   "source": [
    "df_null.reset_index(inplace = True, drop = True)"
   ]
  },
  {
   "cell_type": "code",
   "execution_count": 61,
   "id": "efc475bd-608f-4858-b4db-c2cb1c3eea5e",
   "metadata": {
    "tags": []
   },
   "outputs": [],
   "source": [
    "df_changed = pd.concat([df_null, values], axis=1)"
   ]
  },
  {
   "cell_type": "code",
   "execution_count": 104,
   "id": "33bfcf6e-a1b1-4330-962f-d8e6b62fedf0",
   "metadata": {
    "tags": []
   },
   "outputs": [],
   "source": [
    "df_changed['Property Type'] = df_changed['Property Type'].map({0: 'Single Family', 1:'Condo', 2:'Two Family', 3:'Residential',\n",
    "       4:'Three Family', 5:'Apartments', 6:'Commercial', 7:'Four Family',\n",
    "       8:'Industrial'})"
   ]
  },
  {
   "cell_type": "code",
   "execution_count": 108,
   "id": "8ad718b1-8957-4590-8755-e5aa4d792837",
   "metadata": {
    "tags": []
   },
   "outputs": [],
   "source": [
    "test_df = pd.concat([df_valid, df_changed], axis=0)"
   ]
  },
  {
   "cell_type": "code",
   "execution_count": 109,
   "id": "0437a19a-f38c-4516-a4aa-c0d39929acc0",
   "metadata": {
    "tags": []
   },
   "outputs": [],
   "source": [
    "test_df.reset_index(drop=True, inplace = True)"
   ]
  },
  {
   "cell_type": "code",
   "execution_count": 110,
   "id": "68b57ddf-611a-4780-95a7-28675fd4ff46",
   "metadata": {
    "tags": []
   },
   "outputs": [],
   "source": [
    "df = test_df"
   ]
  },
  {
   "cell_type": "code",
   "execution_count": 111,
   "id": "b23fe874-589e-4732-a4b3-10de6c3127fd",
   "metadata": {
    "tags": []
   },
   "outputs": [
    {
     "data": {
      "text/plain": [
       "Single Family    649333\n",
       "Condo            215562\n",
       "Residential       61135\n",
       "Two Family        33526\n",
       "Three Family      18988\n",
       "Four Family        2618\n",
       "Commercial         2141\n",
       "Apartments          526\n",
       "Industrial          229\n",
       "Name: Property Type, dtype: int64"
      ]
     },
     "execution_count": 111,
     "metadata": {},
     "output_type": "execute_result"
    }
   ],
   "source": [
    "df['Property Type'].value_counts()"
   ]
  },
  {
   "cell_type": "markdown",
   "id": "54dfce35-df90-4e06-824b-42de4c8ecc1e",
   "metadata": {},
   "source": [
    "EDA"
   ]
  },
  {
   "cell_type": "code",
   "execution_count": 113,
   "id": "8822139f-e038-4006-9274-4f256d6c1fd9",
   "metadata": {
    "tags": []
   },
   "outputs": [],
   "source": [
    "hp = df[['Sale Amount', 'Town', 'Property Type']].sort_values('Sale Amount', ascending = False)[:10]\n"
   ]
  },
  {
   "cell_type": "code",
   "execution_count": 114,
   "id": "fd3f74be-baa8-40fb-a186-9520d19e3421",
   "metadata": {
    "tags": []
   },
   "outputs": [
    {
     "data": {
      "text/html": [
       "<style type=\"text/css\">\n",
       "#T_b02ec_row0_col0 {\n",
       "  background-color: #67000d;\n",
       "  color: #f1f1f1;\n",
       "}\n",
       "#T_b02ec_row1_col0, #T_b02ec_row2_col0, #T_b02ec_row3_col0, #T_b02ec_row4_col0, #T_b02ec_row5_col0, #T_b02ec_row6_col0, #T_b02ec_row7_col0, #T_b02ec_row8_col0, #T_b02ec_row9_col0 {\n",
       "  background-color: #fff5f0;\n",
       "  color: #000000;\n",
       "}\n",
       "</style>\n",
       "<table id=\"T_b02ec\">\n",
       "  <thead>\n",
       "    <tr>\n",
       "      <th class=\"blank level0\" >&nbsp;</th>\n",
       "      <th id=\"T_b02ec_level0_col0\" class=\"col_heading level0 col0\" >Sale Amount</th>\n",
       "      <th id=\"T_b02ec_level0_col1\" class=\"col_heading level0 col1\" >Town</th>\n",
       "      <th id=\"T_b02ec_level0_col2\" class=\"col_heading level0 col2\" >Property Type</th>\n",
       "    </tr>\n",
       "  </thead>\n",
       "  <tbody>\n",
       "    <tr>\n",
       "      <th id=\"T_b02ec_level0_row0\" class=\"row_heading level0 row0\" >56626</th>\n",
       "      <td id=\"T_b02ec_row0_col0\" class=\"data row0 col0\" >5000000000.000000</td>\n",
       "      <td id=\"T_b02ec_row0_col1\" class=\"data row0 col1\" >Willington</td>\n",
       "      <td id=\"T_b02ec_row0_col2\" class=\"data row0 col2\" >Apartments</td>\n",
       "    </tr>\n",
       "    <tr>\n",
       "      <th id=\"T_b02ec_level0_row1\" class=\"row_heading level0 row1\" >972498</th>\n",
       "      <td id=\"T_b02ec_row1_col0\" class=\"data row1 col0\" >395500000.000000</td>\n",
       "      <td id=\"T_b02ec_row1_col1\" class=\"data row1 col1\" >Stamford</td>\n",
       "      <td id=\"T_b02ec_row1_col2\" class=\"data row1 col2\" >Single Family</td>\n",
       "    </tr>\n",
       "    <tr>\n",
       "      <th id=\"T_b02ec_level0_row2\" class=\"row_heading level0 row2\" >972440</th>\n",
       "      <td id=\"T_b02ec_row2_col0\" class=\"data row2 col0\" >395500000.000000</td>\n",
       "      <td id=\"T_b02ec_row2_col1\" class=\"data row2 col1\" >Stamford</td>\n",
       "      <td id=\"T_b02ec_row2_col2\" class=\"data row2 col2\" >Single Family</td>\n",
       "    </tr>\n",
       "    <tr>\n",
       "      <th id=\"T_b02ec_level0_row3\" class=\"row_heading level0 row3\" >969278</th>\n",
       "      <td id=\"T_b02ec_row3_col0\" class=\"data row3 col0\" >395500000.000000</td>\n",
       "      <td id=\"T_b02ec_row3_col1\" class=\"data row3 col1\" >Stamford</td>\n",
       "      <td id=\"T_b02ec_row3_col2\" class=\"data row3 col2\" >Single Family</td>\n",
       "    </tr>\n",
       "    <tr>\n",
       "      <th id=\"T_b02ec_level0_row4\" class=\"row_heading level0 row4\" >969071</th>\n",
       "      <td id=\"T_b02ec_row4_col0\" class=\"data row4 col0\" >395500000.000000</td>\n",
       "      <td id=\"T_b02ec_row4_col1\" class=\"data row4 col1\" >Stamford</td>\n",
       "      <td id=\"T_b02ec_row4_col2\" class=\"data row4 col2\" >Single Family</td>\n",
       "    </tr>\n",
       "    <tr>\n",
       "      <th id=\"T_b02ec_level0_row5\" class=\"row_heading level0 row5\" >971685</th>\n",
       "      <td id=\"T_b02ec_row5_col0\" class=\"data row5 col0\" >395500000.000000</td>\n",
       "      <td id=\"T_b02ec_row5_col1\" class=\"data row5 col1\" >Stamford</td>\n",
       "      <td id=\"T_b02ec_row5_col2\" class=\"data row5 col2\" >Single Family</td>\n",
       "    </tr>\n",
       "    <tr>\n",
       "      <th id=\"T_b02ec_level0_row6\" class=\"row_heading level0 row6\" >972612</th>\n",
       "      <td id=\"T_b02ec_row6_col0\" class=\"data row6 col0\" >395500000.000000</td>\n",
       "      <td id=\"T_b02ec_row6_col1\" class=\"data row6 col1\" >Stamford</td>\n",
       "      <td id=\"T_b02ec_row6_col2\" class=\"data row6 col2\" >Single Family</td>\n",
       "    </tr>\n",
       "    <tr>\n",
       "      <th id=\"T_b02ec_level0_row7\" class=\"row_heading level0 row7\" >972658</th>\n",
       "      <td id=\"T_b02ec_row7_col0\" class=\"data row7 col0\" >395500000.000000</td>\n",
       "      <td id=\"T_b02ec_row7_col1\" class=\"data row7 col1\" >Stamford</td>\n",
       "      <td id=\"T_b02ec_row7_col2\" class=\"data row7 col2\" >Single Family</td>\n",
       "    </tr>\n",
       "    <tr>\n",
       "      <th id=\"T_b02ec_level0_row8\" class=\"row_heading level0 row8\" >971997</th>\n",
       "      <td id=\"T_b02ec_row8_col0\" class=\"data row8 col0\" >395500000.000000</td>\n",
       "      <td id=\"T_b02ec_row8_col1\" class=\"data row8 col1\" >Stamford</td>\n",
       "      <td id=\"T_b02ec_row8_col2\" class=\"data row8 col2\" >Single Family</td>\n",
       "    </tr>\n",
       "    <tr>\n",
       "      <th id=\"T_b02ec_level0_row9\" class=\"row_heading level0 row9\" >970982</th>\n",
       "      <td id=\"T_b02ec_row9_col0\" class=\"data row9 col0\" >395500000.000000</td>\n",
       "      <td id=\"T_b02ec_row9_col1\" class=\"data row9 col1\" >Stamford</td>\n",
       "      <td id=\"T_b02ec_row9_col2\" class=\"data row9 col2\" >Single Family</td>\n",
       "    </tr>\n",
       "  </tbody>\n",
       "</table>\n"
      ],
      "text/plain": [
       "<pandas.io.formats.style.Styler at 0x26263a57f50>"
      ]
     },
     "execution_count": 114,
     "metadata": {},
     "output_type": "execute_result"
    }
   ],
   "source": [
    "#Thee is a bug in data base, appartment in Willington can't be worth 5b - so this is dropped (its not extreme it has to be a mistake)\n",
    "hp.style.background_gradient(cmap = 'Reds')\n"
   ]
  },
  {
   "cell_type": "code",
   "execution_count": 115,
   "id": "ec46e700-a7b8-41c1-bcb2-b8f9262f2b93",
   "metadata": {
    "tags": []
   },
   "outputs": [],
   "source": [
    "#Dropping the inccorect value \n",
    "df = df.drop([56626])"
   ]
  },
  {
   "cell_type": "code",
   "execution_count": 116,
   "id": "6490cb26-02d5-4e51-baae-519c6edb5a5d",
   "metadata": {
    "tags": []
   },
   "outputs": [
    {
     "data": {
      "text/plain": [
       "Bridgeport       33777\n",
       "Stamford         32380\n",
       "Waterbury        27983\n",
       "Norwalk          23783\n",
       "New Haven        21226\n",
       "                 ...  \n",
       "Hartland           442\n",
       "Scotland           418\n",
       "Canaan             404\n",
       "Union              246\n",
       "***Unknown***        1\n",
       "Name: Town, Length: 170, dtype: int64"
      ]
     },
     "execution_count": 116,
     "metadata": {},
     "output_type": "execute_result"
    }
   ],
   "source": [
    "df['Town'].value_counts()"
   ]
  },
  {
   "cell_type": "code",
   "execution_count": 117,
   "id": "2b63c442-4ed0-4c5b-9941-f3538c8da93c",
   "metadata": {
    "tags": []
   },
   "outputs": [
    {
     "data": {
      "text/plain": [
       "Text(0.5, 0.91, 'Mean price in Town')"
      ]
     },
     "execution_count": 117,
     "metadata": {},
     "output_type": "execute_result"
    },
    {
     "data": {
      "image/png": "[encoded data removed]",
      "text/plain": [
       "<Figure size 1500x1000 with 2 Axes>"
      ]
     },
     "metadata": {},
     "output_type": "display_data"
    }
   ],
   "source": [
    "exp_towns = df.groupby('Town')['Sale Amount'].mean().sort_values(ascending = False)[:10]\n",
    "cheap_town = df.groupby('Town')['Sale Amount'].mean().sort_values(ascending = False)[-10:]\n",
    "\n",
    "fig, ax = plt.subplots(2, 1, figsize = (15,10))\n",
    "\n",
    "sns.barplot(df, x = exp_towns.index, y=exp_towns.values, ax = ax[0]) \n",
    "sns.barplot(df, x = cheap_town.index, y = cheap_town.values, ax = ax[1]) \n",
    "\n",
    "ax[0].axhline(y = df['Sale Amount'].mean(), color = 'red', label = 'Average sold price')\n",
    "ax[0].legend()\n",
    "ax[1].axhline(y = df['Sale Amount'].mean(), color = 'red', label = 'Average sold price')\n",
    "plt.legend()\n",
    "\n",
    "plt.suptitle('Mean price in Town', y=0.91, )\n"
   ]
  },
  {
   "cell_type": "code",
   "execution_count": 118,
   "id": "0094f390-d58b-42de-8166-f1c8eee16fb2",
   "metadata": {
    "tags": []
   },
   "outputs": [
    {
     "data": {
      "text/plain": [
       "Text(0.5, 0.91, 'Mean price base on type')"
      ]
     },
     "execution_count": 118,
     "metadata": {},
     "output_type": "execute_result"
    },
    {
     "data": {
      "image/png": "[encoded data removed]",
      "text/plain": [
       "<Figure size 1000x600 with 1 Axes>"
      ]
     },
     "metadata": {},
     "output_type": "display_data"
    }
   ],
   "source": [
    "prop_type_mean = df.groupby('Property Type')['Sale Amount'].mean().sort_values(ascending = False)\n",
    "\n",
    "plt.figure(figsize=(10,6))\n",
    "sns.barplot(x = prop_type_mean.index, y = prop_type_mean.values)\n",
    "\n",
    "plt.suptitle('Mean price base on type', y=0.91)"
   ]
  },
  {
   "cell_type": "code",
   "execution_count": 120,
   "id": "91edd76f-3497-47fd-9707-eb272f9c3148",
   "metadata": {
    "tags": []
   },
   "outputs": [
    {
     "data": {
      "text/plain": [
       "Text(0.5, 1.0, 'Waterbury')"
      ]
     },
     "execution_count": 120,
     "metadata": {},
     "output_type": "execute_result"
    },
    {
     "data": {
      "image/png": "[encoded data removed]",
      "text/plain": [
       "<Figure size 1200x400 with 1 Axes>"
      ]
     },
     "metadata": {},
     "output_type": "display_data"
    },
    {
     "data": {
      "image/png": "[encoded data removed]",
      "text/plain": [
       "<Figure size 1200x400 with 3 Axes>"
      ]
     },
     "metadata": {},
     "output_type": "display_data"
    }
   ],
   "source": [
    "#Data set is to big for regular countplot, so I used value_counts function and then bar plot\n",
    "\n",
    "bridgeport_type = df[df['Town'] == 'Bridgeport']['Property Type'].value_counts()[:3]\n",
    "stamford_type = df[df['Town'] == 'Stamford']['Property Type'].value_counts()[:3]\n",
    "waterbury_type = df[df['Town'] == 'Waterbury']['Property Type'].value_counts()[:3]\n",
    "\n",
    "fig, ax = plt.subplots(1, 1, figsize=(12, 4))\n",
    "htown = df.value_counts(subset='Town')[:10]\n",
    "sns.barplot(x = htown.index, y = htown.values)\n",
    "plt.suptitle('Apartments sold per town', y=0.94, fontsize = 17)\n",
    "plt.xlabel('')\n",
    "\n",
    "fig, ax = plt.subplots(1, 3, figsize=(12,4))\n",
    "plt.suptitle('Apartments type in most selling towns', y=0.99, fontsize = 17)\n",
    "type_list = [bridgeport_type, stamford_type, waterbury_type]\n",
    "\n",
    "for  i, town  in enumerate(type_list):\n",
    "    sns.barplot(df, x = town.index, y = town.values, ax = ax[i])\n",
    "    \n",
    "ax[0].set_title('Bridgeport')\n",
    "ax[1].set_title('Stamford')\n",
    "ax[2].set_title('Waterbury')\n"
   ]
  },
  {
   "cell_type": "code",
   "execution_count": 121,
   "id": "604ce6b4-c338-4583-b78e-bb4c7c9b52fe",
   "metadata": {
    "tags": []
   },
   "outputs": [],
   "source": [
    "price_change = df.groupby('List Year')['Sale Amount'].mean()"
   ]
  },
  {
   "cell_type": "code",
   "execution_count": 122,
   "id": "22fd8720-0e93-42c6-8df2-4bea5cb76dea",
   "metadata": {
    "tags": []
   },
   "outputs": [
    {
     "data": {
      "text/plain": [
       "Text(0.5, 0.93, 'Amount of properties sold per year')"
      ]
     },
     "execution_count": 122,
     "metadata": {},
     "output_type": "execute_result"
    },
    {
     "data": {
      "image/png": "[encoded data removed]",
      "text/plain": [
       "<Figure size 1200x400 with 1 Axes>"
      ]
     },
     "metadata": {},
     "output_type": "display_data"
    }
   ],
   "source": [
    "plt.figure(figsize = (12,4))\n",
    "count = df['List Year'].value_counts().sort_values()\n",
    "count.plot.bar()\n",
    "plt.suptitle('Amount of properties sold per year', y=0.93)"
   ]
  },
  {
   "cell_type": "code",
   "execution_count": 123,
   "id": "9f6fd6b0-7733-439c-9fb2-f06a611f4e17",
   "metadata": {
    "tags": []
   },
   "outputs": [
    {
     "data": {
      "text/plain": [
       "Text(0.5, 0.98, 'Price change over time')"
      ]
     },
     "execution_count": 123,
     "metadata": {},
     "output_type": "execute_result"
    },
    {
     "data": {
      "image/png": "[encoded data removed]",
      "text/plain": [
       "<Figure size 1200x400 with 2 Axes>"
      ]
     },
     "metadata": {},
     "output_type": "display_data"
    }
   ],
   "source": [
    "inflation = df.groupby('List Year')['Sale Amount'].mean()\n",
    "inflation2 = df.groupby('List Year')['Assessed Value'].mean()\n",
    "\n",
    "fig, ax = plt.subplots(1, 2, figsize = (12, 4))\n",
    "\n",
    "plt.subplot(121)\n",
    "plt.plot(inflation)\n",
    "plt.xlabel('Sale Amount')\n",
    "\n",
    "plt.subplot(122)\n",
    "plt.plot(inflation2)\n",
    "plt.xlabel('Assessed Value')\n",
    "\n",
    "plt.suptitle('Price change over time')"
   ]
  },
  {
   "cell_type": "code",
   "execution_count": 124,
   "id": "208e7325-7b62-419a-bc0a-f0b7dd8aca98",
   "metadata": {
    "tags": []
   },
   "outputs": [],
   "source": [
    "df = df.drop('List Year', axis = 1) #This is involved in the date recorded tab and was necessary only for EDA"
   ]
  },
  {
   "cell_type": "markdown",
   "id": "967ef635-f6d4-4005-829d-efff81c27181",
   "metadata": {},
   "source": [
    "ML"
   ]
  },
  {
   "cell_type": "code",
   "execution_count": 125,
   "id": "dbe860f4-17f6-4579-b31a-7cc9a6f3f52f",
   "metadata": {
    "tags": []
   },
   "outputs": [
    {
     "name": "stderr",
     "output_type": "stream",
     "text": [
      "C:\\Users\\huber\\AppData\\Local\\Temp\\ipykernel_13468\\4064898422.py:5: FutureWarning: The default value of numeric_only in DataFrame.corr is deprecated. In a future version, it will default to False. Select only valid columns or specify the value of numeric_only to silence this warning.\n",
      "  df.corr()[['Assessed Value', 'Sale Amount']]\n"
     ]
    },
    {
     "data": {
      "text/html": [
       "<div>\n",
       "<style scoped>\n",
       "    .dataframe tbody tr th:only-of-type {\n",
       "        vertical-align: middle;\n",
       "    }\n",
       "\n",
       "    .dataframe tbody tr th {\n",
       "        vertical-align: top;\n",
       "    }\n",
       "\n",
       "    .dataframe thead th {\n",
       "        text-align: right;\n",
       "    }\n",
       "</style>\n",
       "<table border=\"1\" class=\"dataframe\">\n",
       "  <thead>\n",
       "    <tr style=\"text-align: right;\">\n",
       "      <th></th>\n",
       "      <th>Assessed Value</th>\n",
       "      <th>Sale Amount</th>\n",
       "    </tr>\n",
       "  </thead>\n",
       "  <tbody>\n",
       "    <tr>\n",
       "      <th>Assessed Value</th>\n",
       "      <td>1.000000</td>\n",
       "      <td>0.313091</td>\n",
       "    </tr>\n",
       "    <tr>\n",
       "      <th>Sale Amount</th>\n",
       "      <td>0.313091</td>\n",
       "      <td>1.000000</td>\n",
       "    </tr>\n",
       "  </tbody>\n",
       "</table>\n",
       "</div>"
      ],
      "text/plain": [
       "                Assessed Value  Sale Amount\n",
       "Assessed Value        1.000000     0.313091\n",
       "Sale Amount           0.313091     1.000000"
      ]
     },
     "execution_count": 125,
     "metadata": {},
     "output_type": "execute_result"
    }
   ],
   "source": [
    "#I thoguht assessed value will have much higher correlation with Sale Amount column, but its not, so the data can stay as is \n",
    "#*Assessed value is not computed based on Sale Amount.\n",
    "#**Sale Ratio however is based on Sale amount so for the usefullnes and reality of the model has to be dropped\n",
    "df = df.drop('Sales Ratio', axis = 1)\n",
    "df.corr()[['Assessed Value', 'Sale Amount']] "
   ]
  },
  {
   "cell_type": "code",
   "execution_count": 126,
   "id": "42de0ea9-de16-456b-a7d4-278a929c70c4",
   "metadata": {
    "tags": []
   },
   "outputs": [],
   "source": [
    "from sklearn.model_selection import train_test_split\n",
    "from sklearn.preprocessing import StandardScaler\n",
    "from sklearn.preprocessing import OneHotEncoder\n",
    "from sklearn.compose import ColumnTransformer\n",
    "from sklearn.pipeline import Pipeline\n",
    "from xgboost import XGBRegressor\n",
    "from sklearn.metrics import mean_absolute_error, mean_squared_error\n",
    "from sklearn.linear_model import ElasticNet\n",
    "\n"
   ]
  },
  {
   "cell_type": "code",
   "execution_count": 127,
   "id": "345ec650-3b0f-4f80-9788-99e32f49d6d6",
   "metadata": {
    "tags": []
   },
   "outputs": [],
   "source": [
    "X = df.drop('Sale Amount', axis=1)\n",
    "y = df['Sale Amount']"
   ]
  },
  {
   "cell_type": "code",
   "execution_count": 128,
   "id": "20625aac-c6b2-4ae7-84af-81710039e707",
   "metadata": {
    "tags": []
   },
   "outputs": [],
   "source": [
    "X_train_full, X_test, y_train_full, y_test = train_test_split(X, y, test_size=0.1, random_state=0)"
   ]
  },
  {
   "cell_type": "code",
   "execution_count": 129,
   "id": "0c51359b-474c-4af1-8c00-89ead51d07d5",
   "metadata": {
    "tags": []
   },
   "outputs": [],
   "source": [
    "X_train, X_valid, y_train, y_valid = train_test_split(X_train_full, y_train_full, test_size=0.2, random_state=0)"
   ]
  },
  {
   "cell_type": "code",
   "execution_count": 130,
   "id": "2a051dc7-4083-4916-8295-bec198920a8d",
   "metadata": {
    "tags": []
   },
   "outputs": [
    {
     "data": {
      "text/plain": [
       "((708520, 4), (177131, 4), (98406, 4), (98406,))"
      ]
     },
     "execution_count": 130,
     "metadata": {},
     "output_type": "execute_result"
    }
   ],
   "source": [
    "X_train.shape, X_valid.shape, X_test.shape, y_test.shape"
   ]
  },
  {
   "cell_type": "code",
   "execution_count": 131,
   "id": "97286013-f954-4a83-9b23-03c8077f1413",
   "metadata": {
    "tags": []
   },
   "outputs": [],
   "source": [
    "cat_cols = list(df.select_dtypes('object').columns)\n",
    "num_cols = list(df.select_dtypes(['int', 'float']).columns)"
   ]
  },
  {
   "cell_type": "code",
   "execution_count": 132,
   "id": "7fb668b1-ea17-469c-b211-9715f38a9dc7",
   "metadata": {
    "tags": []
   },
   "outputs": [],
   "source": [
    "num_cols.remove('Sale Amount')"
   ]
  },
  {
   "cell_type": "code",
   "execution_count": 133,
   "id": "664f2081-576f-4257-9566-58075927e464",
   "metadata": {
    "tags": []
   },
   "outputs": [],
   "source": [
    "num_cols = ['Assessed Value']"
   ]
  },
  {
   "cell_type": "code",
   "execution_count": 134,
   "id": "5a3968ec-b197-4340-a51f-6c16c03ab4d1",
   "metadata": {
    "tags": []
   },
   "outputs": [
    {
     "data": {
      "text/plain": [
       "['Assessed Value']"
      ]
     },
     "execution_count": 134,
     "metadata": {},
     "output_type": "execute_result"
    }
   ],
   "source": [
    "num_cols"
   ]
  },
  {
   "cell_type": "code",
   "execution_count": 135,
   "id": "dfb4107a-86e4-4290-85c5-1e08a324c349",
   "metadata": {
    "tags": []
   },
   "outputs": [
    {
     "data": {
      "text/plain": [
       "['Town', 'Property Type']"
      ]
     },
     "execution_count": 135,
     "metadata": {},
     "output_type": "execute_result"
    }
   ],
   "source": [
    "cat_cols"
   ]
  },
  {
   "cell_type": "code",
   "execution_count": 136,
   "id": "f3f41d62-0598-4c42-adc8-28756d1d3913",
   "metadata": {
    "tags": []
   },
   "outputs": [],
   "source": [
    "t = [('num_cols', StandardScaler(), num_cols),\n",
    "    ('cat_cols', OneHotEncoder(), cat_cols)]\n",
    "processor = ColumnTransformer(t)"
   ]
  },
  {
   "cell_type": "code",
   "execution_count": 137,
   "id": "28320d5c-5130-48ff-81ba-21786e8cfa9c",
   "metadata": {
    "tags": []
   },
   "outputs": [],
   "source": [
    "pipe_xgb = Pipeline([('processor', processor),\n",
    "                     ('model', XGBRegressor())])"
   ]
  },
  {
   "cell_type": "code",
   "execution_count": 138,
   "id": "b14da7e6-b322-4ff3-ba78-9cc163b266b4",
   "metadata": {
    "tags": []
   },
   "outputs": [
    {
     "data": {
      "text/html": [
       "<style>#sk-container-id-4 {color: black;background-color: white;}#sk-container-id-4 pre{padding: 0;}#sk-container-id-4 div.sk-toggleable {background-color: white;}#sk-container-id-4 label.sk-toggleable__label {cursor: pointer;display: block;width: 100%;margin-bottom: 0;padding: 0.3em;box-sizing: border-box;text-align: center;}#sk-container-id-4 label.sk-toggleable__label-arrow:before {content: \"▸\";float: left;margin-right: 0.25em;color: #696969;}#sk-container-id-4 label.sk-toggleable__label-arrow:hover:before {color: black;}#sk-container-id-4 div.sk-estimator:hover label.sk-toggleable__label-arrow:before {color: black;}#sk-container-id-4 div.sk-toggleable__content {max-height: 0;max-width: 0;overflow: hidden;text-align: left;background-color: #f0f8ff;}#sk-container-id-4 div.sk-toggleable__content pre {margin: 0.2em;color: black;border-radius: 0.25em;background-color: #f0f8ff;}#sk-container-id-4 input.sk-toggleable__control:checked~div.sk-toggleable__content {max-height: 200px;max-width: 100%;overflow: auto;}#sk-container-id-4 input.sk-toggleable__control:checked~label.sk-toggleable__label-arrow:before {content: \"▾\";}#sk-container-id-4 div.sk-estimator input.sk-toggleable__control:checked~label.sk-toggleable__label {background-color: #d4ebff;}#sk-container-id-4 div.sk-label input.sk-toggleable__control:checked~label.sk-toggleable__label {background-color: #d4ebff;}#sk-container-id-4 input.sk-hidden--visually {border: 0;clip: rect(1px 1px 1px 1px);clip: rect(1px, 1px, 1px, 1px);height: 1px;margin: -1px;overflow: hidden;padding: 0;position: absolute;width: 1px;}#sk-container-id-4 div.sk-estimator {font-family: monospace;background-color: #f0f8ff;border: 1px dotted black;border-radius: 0.25em;box-sizing: border-box;margin-bottom: 0.5em;}#sk-container-id-4 div.sk-estimator:hover {background-color: #d4ebff;}#sk-container-id-4 div.sk-parallel-item::after {content: \"\";width: 100%;border-bottom: 1px solid gray;flex-grow: 1;}#sk-container-id-4 div.sk-label:hover label.sk-toggleable__label {background-color: #d4ebff;}#sk-container-id-4 div.sk-serial::before {content: \"\";position: absolute;border-left: 1px solid gray;box-sizing: border-box;top: 0;bottom: 0;left: 50%;z-index: 0;}#sk-container-id-4 div.sk-serial {display: flex;flex-direction: column;align-items: center;background-color: white;padding-right: 0.2em;padding-left: 0.2em;position: relative;}#sk-container-id-4 div.sk-item {position: relative;z-index: 1;}#sk-container-id-4 div.sk-parallel {display: flex;align-items: stretch;justify-content: center;background-color: white;position: relative;}#sk-container-id-4 div.sk-item::before, #sk-container-id-4 div.sk-parallel-item::before {content: \"\";position: absolute;border-left: 1px solid gray;box-sizing: border-box;top: 0;bottom: 0;left: 50%;z-index: -1;}#sk-container-id-4 div.sk-parallel-item {display: flex;flex-direction: column;z-index: 1;position: relative;background-color: white;}#sk-container-id-4 div.sk-parallel-item:first-child::after {align-self: flex-end;width: 50%;}#sk-container-id-4 div.sk-parallel-item:last-child::after {align-self: flex-start;width: 50%;}#sk-container-id-4 div.sk-parallel-item:only-child::after {width: 0;}#sk-container-id-4 div.sk-dashed-wrapped {border: 1px dashed gray;margin: 0 0.4em 0.5em 0.4em;box-sizing: border-box;padding-bottom: 0.4em;background-color: white;}#sk-container-id-4 div.sk-label label {font-family: monospace;font-weight: bold;display: inline-block;line-height: 1.2em;}#sk-container-id-4 div.sk-label-container {text-align: center;}#sk-container-id-4 div.sk-container {/* jupyter's `normalize.less` sets `[hidden] { display: none; }` but bootstrap.min.css set `[hidden] { display: none !important; }` so we also need the `!important` here to be able to override the default hidden behavior on the sphinx rendered scikit-learn.org. See: https://github.com/scikit-learn/scikit-learn/issues/21755 */display: inline-block !important;position: relative;}#sk-container-id-4 div.sk-text-repr-fallback {display: none;}</style><div id=\"sk-container-id-4\" class=\"sk-top-container\"><div class=\"sk-text-repr-fallback\"><pre>Pipeline(steps=[(&#x27;processor&#x27;,\n",
       "                 ColumnTransformer(transformers=[(&#x27;num_cols&#x27;, StandardScaler(),\n",
       "                                                  [&#x27;Assessed Value&#x27;]),\n",
       "                                                 (&#x27;cat_cols&#x27;, OneHotEncoder(),\n",
       "                                                  [&#x27;Town&#x27;, &#x27;Property Type&#x27;])])),\n",
       "                (&#x27;model&#x27;,\n",
       "                 XGBRegressor(base_score=None, booster=None, callbacks=None,\n",
       "                              colsample_bylevel=None, colsample_bynode=None,\n",
       "                              colsample_bytree=None, device=None,\n",
       "                              early_stopping_rounds=None,\n",
       "                              enable_catego...\n",
       "                              feature_types=None, gamma=None, grow_policy=None,\n",
       "                              importance_type=None,\n",
       "                              interaction_constraints=None, learning_rate=None,\n",
       "                              max_bin=None, max_cat_threshold=None,\n",
       "                              max_cat_to_onehot=None, max_delta_step=None,\n",
       "                              max_depth=None, max_leaves=None,\n",
       "                              min_child_weight=None, missing=nan,\n",
       "                              monotone_constraints=None, multi_strategy=None,\n",
       "                              n_estimators=None, n_jobs=None,\n",
       "                              num_parallel_tree=None, random_state=None, ...))])</pre><b>In a Jupyter environment, please rerun this cell to show the HTML representation or trust the notebook. <br />On GitHub, the HTML representation is unable to render, please try loading this page with nbviewer.org.</b></div><div class=\"sk-container\" hidden><div class=\"sk-item sk-dashed-wrapped\"><div class=\"sk-label-container\"><div class=\"sk-label sk-toggleable\"><input class=\"sk-toggleable__control sk-hidden--visually\" id=\"sk-estimator-id-24\" type=\"checkbox\" ><label for=\"sk-estimator-id-24\" class=\"sk-toggleable__label sk-toggleable__label-arrow\">Pipeline</label><div class=\"sk-toggleable__content\"><pre>Pipeline(steps=[(&#x27;processor&#x27;,\n",
       "                 ColumnTransformer(transformers=[(&#x27;num_cols&#x27;, StandardScaler(),\n",
       "                                                  [&#x27;Assessed Value&#x27;]),\n",
       "                                                 (&#x27;cat_cols&#x27;, OneHotEncoder(),\n",
       "                                                  [&#x27;Town&#x27;, &#x27;Property Type&#x27;])])),\n",
       "                (&#x27;model&#x27;,\n",
       "                 XGBRegressor(base_score=None, booster=None, callbacks=None,\n",
       "                              colsample_bylevel=None, colsample_bynode=None,\n",
       "                              colsample_bytree=None, device=None,\n",
       "                              early_stopping_rounds=None,\n",
       "                              enable_catego...\n",
       "                              feature_types=None, gamma=None, grow_policy=None,\n",
       "                              importance_type=None,\n",
       "                              interaction_constraints=None, learning_rate=None,\n",
       "                              max_bin=None, max_cat_threshold=None,\n",
       "                              max_cat_to_onehot=None, max_delta_step=None,\n",
       "                              max_depth=None, max_leaves=None,\n",
       "                              min_child_weight=None, missing=nan,\n",
       "                              monotone_constraints=None, multi_strategy=None,\n",
       "                              n_estimators=None, n_jobs=None,\n",
       "                              num_parallel_tree=None, random_state=None, ...))])</pre></div></div></div><div class=\"sk-serial\"><div class=\"sk-item sk-dashed-wrapped\"><div class=\"sk-label-container\"><div class=\"sk-label sk-toggleable\"><input class=\"sk-toggleable__control sk-hidden--visually\" id=\"sk-estimator-id-25\" type=\"checkbox\" ><label for=\"sk-estimator-id-25\" class=\"sk-toggleable__label sk-toggleable__label-arrow\">processor: ColumnTransformer</label><div class=\"sk-toggleable__content\"><pre>ColumnTransformer(transformers=[(&#x27;num_cols&#x27;, StandardScaler(),\n",
       "                                 [&#x27;Assessed Value&#x27;]),\n",
       "                                (&#x27;cat_cols&#x27;, OneHotEncoder(),\n",
       "                                 [&#x27;Town&#x27;, &#x27;Property Type&#x27;])])</pre></div></div></div><div class=\"sk-parallel\"><div class=\"sk-parallel-item\"><div class=\"sk-item\"><div class=\"sk-label-container\"><div class=\"sk-label sk-toggleable\"><input class=\"sk-toggleable__control sk-hidden--visually\" id=\"sk-estimator-id-26\" type=\"checkbox\" ><label for=\"sk-estimator-id-26\" class=\"sk-toggleable__label sk-toggleable__label-arrow\">num_cols</label><div class=\"sk-toggleable__content\"><pre>[&#x27;Assessed Value&#x27;]</pre></div></div></div><div class=\"sk-serial\"><div class=\"sk-item\"><div class=\"sk-estimator sk-toggleable\"><input class=\"sk-toggleable__control sk-hidden--visually\" id=\"sk-estimator-id-27\" type=\"checkbox\" ><label for=\"sk-estimator-id-27\" class=\"sk-toggleable__label sk-toggleable__label-arrow\">StandardScaler</label><div class=\"sk-toggleable__content\"><pre>StandardScaler()</pre></div></div></div></div></div></div><div class=\"sk-parallel-item\"><div class=\"sk-item\"><div class=\"sk-label-container\"><div class=\"sk-label sk-toggleable\"><input class=\"sk-toggleable__control sk-hidden--visually\" id=\"sk-estimator-id-28\" type=\"checkbox\" ><label for=\"sk-estimator-id-28\" class=\"sk-toggleable__label sk-toggleable__label-arrow\">cat_cols</label><div class=\"sk-toggleable__content\"><pre>[&#x27;Town&#x27;, &#x27;Property Type&#x27;]</pre></div></div></div><div class=\"sk-serial\"><div class=\"sk-item\"><div class=\"sk-estimator sk-toggleable\"><input class=\"sk-toggleable__control sk-hidden--visually\" id=\"sk-estimator-id-29\" type=\"checkbox\" ><label for=\"sk-estimator-id-29\" class=\"sk-toggleable__label sk-toggleable__label-arrow\">OneHotEncoder</label><div class=\"sk-toggleable__content\"><pre>OneHotEncoder()</pre></div></div></div></div></div></div></div></div><div class=\"sk-item\"><div class=\"sk-estimator sk-toggleable\"><input class=\"sk-toggleable__control sk-hidden--visually\" id=\"sk-estimator-id-30\" type=\"checkbox\" ><label for=\"sk-estimator-id-30\" class=\"sk-toggleable__label sk-toggleable__label-arrow\">XGBRegressor</label><div class=\"sk-toggleable__content\"><pre>XGBRegressor(base_score=None, booster=None, callbacks=None,\n",
       "             colsample_bylevel=None, colsample_bynode=None,\n",
       "             colsample_bytree=None, device=None, early_stopping_rounds=None,\n",
       "             enable_categorical=False, eval_metric=None, feature_types=None,\n",
       "             gamma=None, grow_policy=None, importance_type=None,\n",
       "             interaction_constraints=None, learning_rate=None, max_bin=None,\n",
       "             max_cat_threshold=None, max_cat_to_onehot=None,\n",
       "             max_delta_step=None, max_depth=None, max_leaves=None,\n",
       "             min_child_weight=None, missing=nan, monotone_constraints=None,\n",
       "             multi_strategy=None, n_estimators=None, n_jobs=None,\n",
       "             num_parallel_tree=None, random_state=None, ...)</pre></div></div></div></div></div></div></div>"
      ],
      "text/plain": [
       "Pipeline(steps=[('processor',\n",
       "                 ColumnTransformer(transformers=[('num_cols', StandardScaler(),\n",
       "                                                  ['Assessed Value']),\n",
       "                                                 ('cat_cols', OneHotEncoder(),\n",
       "                                                  ['Town', 'Property Type'])])),\n",
       "                ('model',\n",
       "                 XGBRegressor(base_score=None, booster=None, callbacks=None,\n",
       "                              colsample_bylevel=None, colsample_bynode=None,\n",
       "                              colsample_bytree=None, device=None,\n",
       "                              early_stopping_rounds=None,\n",
       "                              enable_catego...\n",
       "                              feature_types=None, gamma=None, grow_policy=None,\n",
       "                              importance_type=None,\n",
       "                              interaction_constraints=None, learning_rate=None,\n",
       "                              max_bin=None, max_cat_threshold=None,\n",
       "                              max_cat_to_onehot=None, max_delta_step=None,\n",
       "                              max_depth=None, max_leaves=None,\n",
       "                              min_child_weight=None, missing=nan,\n",
       "                              monotone_constraints=None, multi_strategy=None,\n",
       "                              n_estimators=None, n_jobs=None,\n",
       "                              num_parallel_tree=None, random_state=None, ...))])"
      ]
     },
     "execution_count": 138,
     "metadata": {},
     "output_type": "execute_result"
    }
   ],
   "source": [
    "pipe_xgb.fit(X_train, y_train)"
   ]
  },
  {
   "cell_type": "code",
   "execution_count": 139,
   "id": "d05a21dd-11bd-40b9-ad7d-b862bc3eb9dc",
   "metadata": {
    "tags": []
   },
   "outputs": [],
   "source": [
    "pred_xgb = pipe_xgb.predict(X_valid)"
   ]
  },
  {
   "cell_type": "code",
   "execution_count": 140,
   "id": "fa490c5c-8655-4b72-b935-956a75a7a15a",
   "metadata": {
    "tags": []
   },
   "outputs": [],
   "source": [
    "MSE_xgb = np.sqrt(mean_squared_error(y_valid, pred_xgb))\n",
    "MAE_xgb = (mean_absolute_error(y_valid, pred_xgb))\n",
    "                  "
   ]
  },
  {
   "cell_type": "code",
   "execution_count": 141,
   "id": "a3b1d09f-d98d-420f-881b-a14ce3f4e0eb",
   "metadata": {
    "tags": []
   },
   "outputs": [
    {
     "data": {
      "text/plain": [
       "2058385.7428025252"
      ]
     },
     "execution_count": 141,
     "metadata": {},
     "output_type": "execute_result"
    }
   ],
   "source": [
    "MSE_xgb"
   ]
  },
  {
   "cell_type": "code",
   "execution_count": 142,
   "id": "91658bbb-6d97-4ba0-97f8-d34a6b4ac91b",
   "metadata": {
    "tags": []
   },
   "outputs": [
    {
     "data": {
      "text/plain": [
       "146679.32147203566"
      ]
     },
     "execution_count": 142,
     "metadata": {},
     "output_type": "execute_result"
    }
   ],
   "source": [
    "MAE_xgb"
   ]
  },
  {
   "cell_type": "code",
   "execution_count": 143,
   "id": "d1ead40e-a7e8-4f1e-b55e-bef2fca87cb9",
   "metadata": {
    "tags": []
   },
   "outputs": [
    {
     "data": {
      "text/plain": [
       "<matplotlib.legend.Legend at 0x26264310ed0>"
      ]
     },
     "execution_count": 143,
     "metadata": {},
     "output_type": "execute_result"
    },
    {
     "data": {
      "image/png": "[encoded data removed]",
      "text/plain": [
       "<Figure size 640x480 with 1 Axes>"
      ]
     },
     "metadata": {},
     "output_type": "display_data"
    }
   ],
   "source": [
    "plt.plot(np.array(y_valid)[-50:],marker='o',label='y_valid')\n",
    "plt.plot((pred_xgb)[-50:],marker='o',label='predicitions',color='red')\n",
    "plt.title('y_valid vs predict (50 values)', size=15, y=1.01)\n",
    "plt.legend()"
   ]
  },
  {
   "cell_type": "code",
   "execution_count": 144,
   "id": "dab18caa-74cb-456a-abb9-2e80b4c48058",
   "metadata": {
    "tags": []
   },
   "outputs": [],
   "source": [
    "from sklearn.model_selection import GridSearchCV"
   ]
  },
  {
   "cell_type": "code",
   "execution_count": 145,
   "id": "07132fd6-8b2d-44cf-816d-d23909342f4a",
   "metadata": {
    "tags": []
   },
   "outputs": [],
   "source": [
    "params = {\n",
    "    'learning_rate': [0.1, 0.3],\n",
    "    'n_estimators': [500, 2000],\n",
    "    'max_depth': [4, 5]}"
   ]
  },
  {
   "cell_type": "code",
   "execution_count": 146,
   "id": "37ac7538-c671-46e5-82cf-d09ca79e8507",
   "metadata": {
    "tags": []
   },
   "outputs": [],
   "source": [
    "gsearch = GridSearchCV(estimator = XGBRegressor(), param_grid = params, cv = 3, verbose = 2)"
   ]
  },
  {
   "cell_type": "code",
   "execution_count": 147,
   "id": "cb931306-bafc-48a9-8e46-6a33481d3584",
   "metadata": {
    "tags": []
   },
   "outputs": [],
   "source": [
    "pipe_grid = Pipeline([('processor', processor),\n",
    "                     ('model', gsearch)])"
   ]
  },
  {
   "cell_type": "code",
   "execution_count": 148,
   "id": "8e9f2c52-e26f-4b47-9b7a-57b7191379fd",
   "metadata": {
    "tags": []
   },
   "outputs": [
    {
     "name": "stdout",
     "output_type": "stream",
     "text": [
      "Fitting 3 folds for each of 8 candidates, totalling 24 fits\n",
      "[CV] END ...learning_rate=0.1, max_depth=4, n_estimators=500; total time=   4.3s\n",
      "[CV] END ...learning_rate=0.1, max_depth=4, n_estimators=500; total time=   4.4s\n",
      "[CV] END ...learning_rate=0.1, max_depth=4, n_estimators=500; total time=   4.4s\n",
      "[CV] END ..learning_rate=0.1, max_depth=4, n_estimators=2000; total time=  17.9s\n",
      "[CV] END ..learning_rate=0.1, max_depth=4, n_estimators=2000; total time=  19.2s\n",
      "[CV] END ..learning_rate=0.1, max_depth=4, n_estimators=2000; total time=  17.6s\n",
      "[CV] END ...learning_rate=0.1, max_depth=5, n_estimators=500; total time=   4.7s\n",
      "[CV] END ...learning_rate=0.1, max_depth=5, n_estimators=500; total time=   5.4s\n",
      "[CV] END ...learning_rate=0.1, max_depth=5, n_estimators=500; total time=   5.2s\n",
      "[CV] END ..learning_rate=0.1, max_depth=5, n_estimators=2000; total time=  19.9s\n",
      "[CV] END ..learning_rate=0.1, max_depth=5, n_estimators=2000; total time=  23.4s\n",
      "[CV] END ..learning_rate=0.1, max_depth=5, n_estimators=2000; total time=  27.0s\n",
      "[CV] END ...learning_rate=0.3, max_depth=4, n_estimators=500; total time=   6.7s\n",
      "[CV] END ...learning_rate=0.3, max_depth=4, n_estimators=500; total time=   6.6s\n",
      "[CV] END ...learning_rate=0.3, max_depth=4, n_estimators=500; total time=   6.9s\n",
      "[CV] END ..learning_rate=0.3, max_depth=4, n_estimators=2000; total time=  25.1s\n",
      "[CV] END ..learning_rate=0.3, max_depth=4, n_estimators=2000; total time=  19.7s\n",
      "[CV] END ..learning_rate=0.3, max_depth=4, n_estimators=2000; total time=  23.7s\n",
      "[CV] END ...learning_rate=0.3, max_depth=5, n_estimators=500; total time=   8.4s\n",
      "[CV] END ...learning_rate=0.3, max_depth=5, n_estimators=500; total time=   7.5s\n",
      "[CV] END ...learning_rate=0.3, max_depth=5, n_estimators=500; total time=   6.1s\n",
      "[CV] END ..learning_rate=0.3, max_depth=5, n_estimators=2000; total time=  30.2s\n",
      "[CV] END ..learning_rate=0.3, max_depth=5, n_estimators=2000; total time=  34.2s\n",
      "[CV] END ..learning_rate=0.3, max_depth=5, n_estimators=2000; total time=  35.7s\n"
     ]
    },
    {
     "data": {
      "text/html": [
       "<style>#sk-container-id-5 {color: black;background-color: white;}#sk-container-id-5 pre{padding: 0;}#sk-container-id-5 div.sk-toggleable {background-color: white;}#sk-container-id-5 label.sk-toggleable__label {cursor: pointer;display: block;width: 100%;margin-bottom: 0;padding: 0.3em;box-sizing: border-box;text-align: center;}#sk-container-id-5 label.sk-toggleable__label-arrow:before {content: \"▸\";float: left;margin-right: 0.25em;color: #696969;}#sk-container-id-5 label.sk-toggleable__label-arrow:hover:before {color: black;}#sk-container-id-5 div.sk-estimator:hover label.sk-toggleable__label-arrow:before {color: black;}#sk-container-id-5 div.sk-toggleable__content {max-height: 0;max-width: 0;overflow: hidden;text-align: left;background-color: #f0f8ff;}#sk-container-id-5 div.sk-toggleable__content pre {margin: 0.2em;color: black;border-radius: 0.25em;background-color: #f0f8ff;}#sk-container-id-5 input.sk-toggleable__control:checked~div.sk-toggleable__content {max-height: 200px;max-width: 100%;overflow: auto;}#sk-container-id-5 input.sk-toggleable__control:checked~label.sk-toggleable__label-arrow:before {content: \"▾\";}#sk-container-id-5 div.sk-estimator input.sk-toggleable__control:checked~label.sk-toggleable__label {background-color: #d4ebff;}#sk-container-id-5 div.sk-label input.sk-toggleable__control:checked~label.sk-toggleable__label {background-color: #d4ebff;}#sk-container-id-5 input.sk-hidden--visually {border: 0;clip: rect(1px 1px 1px 1px);clip: rect(1px, 1px, 1px, 1px);height: 1px;margin: -1px;overflow: hidden;padding: 0;position: absolute;width: 1px;}#sk-container-id-5 div.sk-estimator {font-family: monospace;background-color: #f0f8ff;border: 1px dotted black;border-radius: 0.25em;box-sizing: border-box;margin-bottom: 0.5em;}#sk-container-id-5 div.sk-estimator:hover {background-color: #d4ebff;}#sk-container-id-5 div.sk-parallel-item::after {content: \"\";width: 100%;border-bottom: 1px solid gray;flex-grow: 1;}#sk-container-id-5 div.sk-label:hover label.sk-toggleable__label {background-color: #d4ebff;}#sk-container-id-5 div.sk-serial::before {content: \"\";position: absolute;border-left: 1px solid gray;box-sizing: border-box;top: 0;bottom: 0;left: 50%;z-index: 0;}#sk-container-id-5 div.sk-serial {display: flex;flex-direction: column;align-items: center;background-color: white;padding-right: 0.2em;padding-left: 0.2em;position: relative;}#sk-container-id-5 div.sk-item {position: relative;z-index: 1;}#sk-container-id-5 div.sk-parallel {display: flex;align-items: stretch;justify-content: center;background-color: white;position: relative;}#sk-container-id-5 div.sk-item::before, #sk-container-id-5 div.sk-parallel-item::before {content: \"\";position: absolute;border-left: 1px solid gray;box-sizing: border-box;top: 0;bottom: 0;left: 50%;z-index: -1;}#sk-container-id-5 div.sk-parallel-item {display: flex;flex-direction: column;z-index: 1;position: relative;background-color: white;}#sk-container-id-5 div.sk-parallel-item:first-child::after {align-self: flex-end;width: 50%;}#sk-container-id-5 div.sk-parallel-item:last-child::after {align-self: flex-start;width: 50%;}#sk-container-id-5 div.sk-parallel-item:only-child::after {width: 0;}#sk-container-id-5 div.sk-dashed-wrapped {border: 1px dashed gray;margin: 0 0.4em 0.5em 0.4em;box-sizing: border-box;padding-bottom: 0.4em;background-color: white;}#sk-container-id-5 div.sk-label label {font-family: monospace;font-weight: bold;display: inline-block;line-height: 1.2em;}#sk-container-id-5 div.sk-label-container {text-align: center;}#sk-container-id-5 div.sk-container {/* jupyter's `normalize.less` sets `[hidden] { display: none; }` but bootstrap.min.css set `[hidden] { display: none !important; }` so we also need the `!important` here to be able to override the default hidden behavior on the sphinx rendered scikit-learn.org. See: https://github.com/scikit-learn/scikit-learn/issues/21755 */display: inline-block !important;position: relative;}#sk-container-id-5 div.sk-text-repr-fallback {display: none;}</style><div id=\"sk-container-id-5\" class=\"sk-top-container\"><div class=\"sk-text-repr-fallback\"><pre>Pipeline(steps=[(&#x27;processor&#x27;,\n",
       "                 ColumnTransformer(transformers=[(&#x27;num_cols&#x27;, StandardScaler(),\n",
       "                                                  [&#x27;Assessed Value&#x27;]),\n",
       "                                                 (&#x27;cat_cols&#x27;, OneHotEncoder(),\n",
       "                                                  [&#x27;Town&#x27;, &#x27;Property Type&#x27;])])),\n",
       "                (&#x27;model&#x27;,\n",
       "                 GridSearchCV(cv=3,\n",
       "                              estimator=XGBRegressor(base_score=None,\n",
       "                                                     booster=None,\n",
       "                                                     callbacks=None,\n",
       "                                                     colsample_bylevel=None,\n",
       "                                                     colsample_bynode=None,\n",
       "                                                     colsample_bytree=None,\n",
       "                                                     device=None,\n",
       "                                                     early_stoppi...\n",
       "                                                     max_bin=None,\n",
       "                                                     max_cat_threshold=None,\n",
       "                                                     max_cat_to_onehot=None,\n",
       "                                                     max_delta_step=None,\n",
       "                                                     max_depth=None,\n",
       "                                                     max_leaves=None,\n",
       "                                                     min_child_weight=None,\n",
       "                                                     missing=nan,\n",
       "                                                     monotone_constraints=None,\n",
       "                                                     multi_strategy=None,\n",
       "                                                     n_estimators=None,\n",
       "                                                     n_jobs=None,\n",
       "                                                     num_parallel_tree=None,\n",
       "                                                     random_state=None, ...),\n",
       "                              param_grid={&#x27;learning_rate&#x27;: [0.1, 0.3],\n",
       "                                          &#x27;max_depth&#x27;: [4, 5],\n",
       "                                          &#x27;n_estimators&#x27;: [500, 2000]},\n",
       "                              verbose=2))])</pre><b>In a Jupyter environment, please rerun this cell to show the HTML representation or trust the notebook. <br />On GitHub, the HTML representation is unable to render, please try loading this page with nbviewer.org.</b></div><div class=\"sk-container\" hidden><div class=\"sk-item sk-dashed-wrapped\"><div class=\"sk-label-container\"><div class=\"sk-label sk-toggleable\"><input class=\"sk-toggleable__control sk-hidden--visually\" id=\"sk-estimator-id-31\" type=\"checkbox\" ><label for=\"sk-estimator-id-31\" class=\"sk-toggleable__label sk-toggleable__label-arrow\">Pipeline</label><div class=\"sk-toggleable__content\"><pre>Pipeline(steps=[(&#x27;processor&#x27;,\n",
       "                 ColumnTransformer(transformers=[(&#x27;num_cols&#x27;, StandardScaler(),\n",
       "                                                  [&#x27;Assessed Value&#x27;]),\n",
       "                                                 (&#x27;cat_cols&#x27;, OneHotEncoder(),\n",
       "                                                  [&#x27;Town&#x27;, &#x27;Property Type&#x27;])])),\n",
       "                (&#x27;model&#x27;,\n",
       "                 GridSearchCV(cv=3,\n",
       "                              estimator=XGBRegressor(base_score=None,\n",
       "                                                     booster=None,\n",
       "                                                     callbacks=None,\n",
       "                                                     colsample_bylevel=None,\n",
       "                                                     colsample_bynode=None,\n",
       "                                                     colsample_bytree=None,\n",
       "                                                     device=None,\n",
       "                                                     early_stoppi...\n",
       "                                                     max_bin=None,\n",
       "                                                     max_cat_threshold=None,\n",
       "                                                     max_cat_to_onehot=None,\n",
       "                                                     max_delta_step=None,\n",
       "                                                     max_depth=None,\n",
       "                                                     max_leaves=None,\n",
       "                                                     min_child_weight=None,\n",
       "                                                     missing=nan,\n",
       "                                                     monotone_constraints=None,\n",
       "                                                     multi_strategy=None,\n",
       "                                                     n_estimators=None,\n",
       "                                                     n_jobs=None,\n",
       "                                                     num_parallel_tree=None,\n",
       "                                                     random_state=None, ...),\n",
       "                              param_grid={&#x27;learning_rate&#x27;: [0.1, 0.3],\n",
       "                                          &#x27;max_depth&#x27;: [4, 5],\n",
       "                                          &#x27;n_estimators&#x27;: [500, 2000]},\n",
       "                              verbose=2))])</pre></div></div></div><div class=\"sk-serial\"><div class=\"sk-item sk-dashed-wrapped\"><div class=\"sk-label-container\"><div class=\"sk-label sk-toggleable\"><input class=\"sk-toggleable__control sk-hidden--visually\" id=\"sk-estimator-id-32\" type=\"checkbox\" ><label for=\"sk-estimator-id-32\" class=\"sk-toggleable__label sk-toggleable__label-arrow\">processor: ColumnTransformer</label><div class=\"sk-toggleable__content\"><pre>ColumnTransformer(transformers=[(&#x27;num_cols&#x27;, StandardScaler(),\n",
       "                                 [&#x27;Assessed Value&#x27;]),\n",
       "                                (&#x27;cat_cols&#x27;, OneHotEncoder(),\n",
       "                                 [&#x27;Town&#x27;, &#x27;Property Type&#x27;])])</pre></div></div></div><div class=\"sk-parallel\"><div class=\"sk-parallel-item\"><div class=\"sk-item\"><div class=\"sk-label-container\"><div class=\"sk-label sk-toggleable\"><input class=\"sk-toggleable__control sk-hidden--visually\" id=\"sk-estimator-id-33\" type=\"checkbox\" ><label for=\"sk-estimator-id-33\" class=\"sk-toggleable__label sk-toggleable__label-arrow\">num_cols</label><div class=\"sk-toggleable__content\"><pre>[&#x27;Assessed Value&#x27;]</pre></div></div></div><div class=\"sk-serial\"><div class=\"sk-item\"><div class=\"sk-estimator sk-toggleable\"><input class=\"sk-toggleable__control sk-hidden--visually\" id=\"sk-estimator-id-34\" type=\"checkbox\" ><label for=\"sk-estimator-id-34\" class=\"sk-toggleable__label sk-toggleable__label-arrow\">StandardScaler</label><div class=\"sk-toggleable__content\"><pre>StandardScaler()</pre></div></div></div></div></div></div><div class=\"sk-parallel-item\"><div class=\"sk-item\"><div class=\"sk-label-container\"><div class=\"sk-label sk-toggleable\"><input class=\"sk-toggleable__control sk-hidden--visually\" id=\"sk-estimator-id-35\" type=\"checkbox\" ><label for=\"sk-estimator-id-35\" class=\"sk-toggleable__label sk-toggleable__label-arrow\">cat_cols</label><div class=\"sk-toggleable__content\"><pre>[&#x27;Town&#x27;, &#x27;Property Type&#x27;]</pre></div></div></div><div class=\"sk-serial\"><div class=\"sk-item\"><div class=\"sk-estimator sk-toggleable\"><input class=\"sk-toggleable__control sk-hidden--visually\" id=\"sk-estimator-id-36\" type=\"checkbox\" ><label for=\"sk-estimator-id-36\" class=\"sk-toggleable__label sk-toggleable__label-arrow\">OneHotEncoder</label><div class=\"sk-toggleable__content\"><pre>OneHotEncoder()</pre></div></div></div></div></div></div></div></div><div class=\"sk-item sk-dashed-wrapped\"><div class=\"sk-label-container\"><div class=\"sk-label sk-toggleable\"><input class=\"sk-toggleable__control sk-hidden--visually\" id=\"sk-estimator-id-37\" type=\"checkbox\" ><label for=\"sk-estimator-id-37\" class=\"sk-toggleable__label sk-toggleable__label-arrow\">model: GridSearchCV</label><div class=\"sk-toggleable__content\"><pre>GridSearchCV(cv=3,\n",
       "             estimator=XGBRegressor(base_score=None, booster=None,\n",
       "                                    callbacks=None, colsample_bylevel=None,\n",
       "                                    colsample_bynode=None,\n",
       "                                    colsample_bytree=None, device=None,\n",
       "                                    early_stopping_rounds=None,\n",
       "                                    enable_categorical=False, eval_metric=None,\n",
       "                                    feature_types=None, gamma=None,\n",
       "                                    grow_policy=None, importance_type=None,\n",
       "                                    interaction_constraints=None,\n",
       "                                    learning_rate=None, m...one,\n",
       "                                    max_cat_threshold=None,\n",
       "                                    max_cat_to_onehot=None, max_delta_step=None,\n",
       "                                    max_depth=None, max_leaves=None,\n",
       "                                    min_child_weight=None, missing=nan,\n",
       "                                    monotone_constraints=None,\n",
       "                                    multi_strategy=None, n_estimators=None,\n",
       "                                    n_jobs=None, num_parallel_tree=None,\n",
       "                                    random_state=None, ...),\n",
       "             param_grid={&#x27;learning_rate&#x27;: [0.1, 0.3], &#x27;max_depth&#x27;: [4, 5],\n",
       "                         &#x27;n_estimators&#x27;: [500, 2000]},\n",
       "             verbose=2)</pre></div></div></div><div class=\"sk-parallel\"><div class=\"sk-parallel-item\"><div class=\"sk-item\"><div class=\"sk-label-container\"><div class=\"sk-label sk-toggleable\"><input class=\"sk-toggleable__control sk-hidden--visually\" id=\"sk-estimator-id-38\" type=\"checkbox\" ><label for=\"sk-estimator-id-38\" class=\"sk-toggleable__label sk-toggleable__label-arrow\">estimator: XGBRegressor</label><div class=\"sk-toggleable__content\"><pre>XGBRegressor(base_score=None, booster=None, callbacks=None,\n",
       "             colsample_bylevel=None, colsample_bynode=None,\n",
       "             colsample_bytree=None, device=None, early_stopping_rounds=None,\n",
       "             enable_categorical=False, eval_metric=None, feature_types=None,\n",
       "             gamma=None, grow_policy=None, importance_type=None,\n",
       "             interaction_constraints=None, learning_rate=None, max_bin=None,\n",
       "             max_cat_threshold=None, max_cat_to_onehot=None,\n",
       "             max_delta_step=None, max_depth=None, max_leaves=None,\n",
       "             min_child_weight=None, missing=nan, monotone_constraints=None,\n",
       "             multi_strategy=None, n_estimators=None, n_jobs=None,\n",
       "             num_parallel_tree=None, random_state=None, ...)</pre></div></div></div><div class=\"sk-serial\"><div class=\"sk-item\"><div class=\"sk-estimator sk-toggleable\"><input class=\"sk-toggleable__control sk-hidden--visually\" id=\"sk-estimator-id-39\" type=\"checkbox\" ><label for=\"sk-estimator-id-39\" class=\"sk-toggleable__label sk-toggleable__label-arrow\">XGBRegressor</label><div class=\"sk-toggleable__content\"><pre>XGBRegressor(base_score=None, booster=None, callbacks=None,\n",
       "             colsample_bylevel=None, colsample_bynode=None,\n",
       "             colsample_bytree=None, device=None, early_stopping_rounds=None,\n",
       "             enable_categorical=False, eval_metric=None, feature_types=None,\n",
       "             gamma=None, grow_policy=None, importance_type=None,\n",
       "             interaction_constraints=None, learning_rate=None, max_bin=None,\n",
       "             max_cat_threshold=None, max_cat_to_onehot=None,\n",
       "             max_delta_step=None, max_depth=None, max_leaves=None,\n",
       "             min_child_weight=None, missing=nan, monotone_constraints=None,\n",
       "             multi_strategy=None, n_estimators=None, n_jobs=None,\n",
       "             num_parallel_tree=None, random_state=None, ...)</pre></div></div></div></div></div></div></div></div></div></div></div></div>"
      ],
      "text/plain": [
       "Pipeline(steps=[('processor',\n",
       "                 ColumnTransformer(transformers=[('num_cols', StandardScaler(),\n",
       "                                                  ['Assessed Value']),\n",
       "                                                 ('cat_cols', OneHotEncoder(),\n",
       "                                                  ['Town', 'Property Type'])])),\n",
       "                ('model',\n",
       "                 GridSearchCV(cv=3,\n",
       "                              estimator=XGBRegressor(base_score=None,\n",
       "                                                     booster=None,\n",
       "                                                     callbacks=None,\n",
       "                                                     colsample_bylevel=None,\n",
       "                                                     colsample_bynode=None,\n",
       "                                                     colsample_bytree=None,\n",
       "                                                     device=None,\n",
       "                                                     early_stoppi...\n",
       "                                                     max_bin=None,\n",
       "                                                     max_cat_threshold=None,\n",
       "                                                     max_cat_to_onehot=None,\n",
       "                                                     max_delta_step=None,\n",
       "                                                     max_depth=None,\n",
       "                                                     max_leaves=None,\n",
       "                                                     min_child_weight=None,\n",
       "                                                     missing=nan,\n",
       "                                                     monotone_constraints=None,\n",
       "                                                     multi_strategy=None,\n",
       "                                                     n_estimators=None,\n",
       "                                                     n_jobs=None,\n",
       "                                                     num_parallel_tree=None,\n",
       "                                                     random_state=None, ...),\n",
       "                              param_grid={'learning_rate': [0.1, 0.3],\n",
       "                                          'max_depth': [4, 5],\n",
       "                                          'n_estimators': [500, 2000]},\n",
       "                              verbose=2))])"
      ]
     },
     "execution_count": 148,
     "metadata": {},
     "output_type": "execute_result"
    }
   ],
   "source": [
    "pipe_grid.fit(X_train, y_train)"
   ]
  },
  {
   "cell_type": "code",
   "execution_count": 149,
   "id": "e320835f-989b-4081-bb4d-8365901b3528",
   "metadata": {
    "tags": []
   },
   "outputs": [
    {
     "data": {
      "text/plain": [
       "{'learning_rate': 0.1, 'max_depth': 5, 'n_estimators': 500}"
      ]
     },
     "execution_count": 149,
     "metadata": {},
     "output_type": "execute_result"
    }
   ],
   "source": [
    "gsearch.best_params_"
   ]
  },
  {
   "cell_type": "code",
   "execution_count": 150,
   "id": "0054fd45-7dce-4ce9-8683-f9d2ba79830a",
   "metadata": {
    "tags": []
   },
   "outputs": [],
   "source": [
    "params2 = {\n",
    "    'learning_rate': [0.3, 0.5],\n",
    "    'n_estimators': [200, 300, 500],\n",
    "    'max_depth': [5, 6]}"
   ]
  },
  {
   "cell_type": "code",
   "execution_count": 151,
   "id": "034eec07-712a-4a63-9b03-fce69ae7784f",
   "metadata": {
    "tags": []
   },
   "outputs": [],
   "source": [
    "gsearch2 = GridSearchCV(estimator = XGBRegressor(), param_grid = params2, cv = 3, verbose = 2)"
   ]
  },
  {
   "cell_type": "code",
   "execution_count": 152,
   "id": "718910bf-4934-42da-99e9-778bbbdfbeb0",
   "metadata": {
    "tags": []
   },
   "outputs": [],
   "source": [
    "pipe_grid2 = Pipeline([('processor', processor),\n",
    "                     ('model', gsearch2)])"
   ]
  },
  {
   "cell_type": "code",
   "execution_count": 153,
   "id": "8aa7e8d5-e9ba-4d53-ae04-45325564d268",
   "metadata": {
    "tags": []
   },
   "outputs": [
    {
     "name": "stdout",
     "output_type": "stream",
     "text": [
      "Fitting 3 folds for each of 12 candidates, totalling 36 fits\n",
      "[CV] END ...learning_rate=0.3, max_depth=5, n_estimators=200; total time=   2.7s\n",
      "[CV] END ...learning_rate=0.3, max_depth=5, n_estimators=200; total time=   2.8s\n",
      "[CV] END ...learning_rate=0.3, max_depth=5, n_estimators=200; total time=   2.8s\n",
      "[CV] END ...learning_rate=0.3, max_depth=5, n_estimators=300; total time=   4.2s\n",
      "[CV] END ...learning_rate=0.3, max_depth=5, n_estimators=300; total time=   4.2s\n",
      "[CV] END ...learning_rate=0.3, max_depth=5, n_estimators=300; total time=   4.1s\n",
      "[CV] END ...learning_rate=0.3, max_depth=5, n_estimators=500; total time=   8.0s\n",
      "[CV] END ...learning_rate=0.3, max_depth=5, n_estimators=500; total time=   6.9s\n",
      "[CV] END ...learning_rate=0.3, max_depth=5, n_estimators=500; total time=   8.2s\n",
      "[CV] END ...learning_rate=0.3, max_depth=6, n_estimators=200; total time=   3.8s\n",
      "[CV] END ...learning_rate=0.3, max_depth=6, n_estimators=200; total time=   3.0s\n",
      "[CV] END ...learning_rate=0.3, max_depth=6, n_estimators=200; total time=   3.0s\n",
      "[CV] END ...learning_rate=0.3, max_depth=6, n_estimators=300; total time=   5.1s\n",
      "[CV] END ...learning_rate=0.3, max_depth=6, n_estimators=300; total time=   4.8s\n",
      "[CV] END ...learning_rate=0.3, max_depth=6, n_estimators=300; total time=   4.6s\n",
      "[CV] END ...learning_rate=0.3, max_depth=6, n_estimators=500; total time=   8.4s\n",
      "[CV] END ...learning_rate=0.3, max_depth=6, n_estimators=500; total time=   9.1s\n",
      "[CV] END ...learning_rate=0.3, max_depth=6, n_estimators=500; total time=  10.5s\n",
      "[CV] END ...learning_rate=0.5, max_depth=5, n_estimators=200; total time=   3.0s\n",
      "[CV] END ...learning_rate=0.5, max_depth=5, n_estimators=200; total time=   2.5s\n",
      "[CV] END ...learning_rate=0.5, max_depth=5, n_estimators=200; total time=   2.3s\n",
      "[CV] END ...learning_rate=0.5, max_depth=5, n_estimators=300; total time=   3.4s\n",
      "[CV] END ...learning_rate=0.5, max_depth=5, n_estimators=300; total time=   3.7s\n",
      "[CV] END ...learning_rate=0.5, max_depth=5, n_estimators=300; total time=   5.8s\n",
      "[CV] END ...learning_rate=0.5, max_depth=5, n_estimators=500; total time=   8.9s\n",
      "[CV] END ...learning_rate=0.5, max_depth=5, n_estimators=500; total time=   8.2s\n",
      "[CV] END ...learning_rate=0.5, max_depth=5, n_estimators=500; total time=   7.7s\n",
      "[CV] END ...learning_rate=0.5, max_depth=6, n_estimators=200; total time=   4.4s\n",
      "[CV] END ...learning_rate=0.5, max_depth=6, n_estimators=200; total time=   3.7s\n",
      "[CV] END ...learning_rate=0.5, max_depth=6, n_estimators=200; total time=   4.5s\n",
      "[CV] END ...learning_rate=0.5, max_depth=6, n_estimators=300; total time=   5.8s\n",
      "[CV] END ...learning_rate=0.5, max_depth=6, n_estimators=300; total time=   8.5s\n",
      "[CV] END ...learning_rate=0.5, max_depth=6, n_estimators=300; total time=   7.7s\n",
      "[CV] END ...learning_rate=0.5, max_depth=6, n_estimators=500; total time=   8.8s\n",
      "[CV] END ...learning_rate=0.5, max_depth=6, n_estimators=500; total time=  10.2s\n",
      "[CV] END ...learning_rate=0.5, max_depth=6, n_estimators=500; total time=  10.4s\n"
     ]
    },
    {
     "data": {
      "text/html": [
       "<style>#sk-container-id-6 {color: black;background-color: white;}#sk-container-id-6 pre{padding: 0;}#sk-container-id-6 div.sk-toggleable {background-color: white;}#sk-container-id-6 label.sk-toggleable__label {cursor: pointer;display: block;width: 100%;margin-bottom: 0;padding: 0.3em;box-sizing: border-box;text-align: center;}#sk-container-id-6 label.sk-toggleable__label-arrow:before {content: \"▸\";float: left;margin-right: 0.25em;color: #696969;}#sk-container-id-6 label.sk-toggleable__label-arrow:hover:before {color: black;}#sk-container-id-6 div.sk-estimator:hover label.sk-toggleable__label-arrow:before {color: black;}#sk-container-id-6 div.sk-toggleable__content {max-height: 0;max-width: 0;overflow: hidden;text-align: left;background-color: #f0f8ff;}#sk-container-id-6 div.sk-toggleable__content pre {margin: 0.2em;color: black;border-radius: 0.25em;background-color: #f0f8ff;}#sk-container-id-6 input.sk-toggleable__control:checked~div.sk-toggleable__content {max-height: 200px;max-width: 100%;overflow: auto;}#sk-container-id-6 input.sk-toggleable__control:checked~label.sk-toggleable__label-arrow:before {content: \"▾\";}#sk-container-id-6 div.sk-estimator input.sk-toggleable__control:checked~label.sk-toggleable__label {background-color: #d4ebff;}#sk-container-id-6 div.sk-label input.sk-toggleable__control:checked~label.sk-toggleable__label {background-color: #d4ebff;}#sk-container-id-6 input.sk-hidden--visually {border: 0;clip: rect(1px 1px 1px 1px);clip: rect(1px, 1px, 1px, 1px);height: 1px;margin: -1px;overflow: hidden;padding: 0;position: absolute;width: 1px;}#sk-container-id-6 div.sk-estimator {font-family: monospace;background-color: #f0f8ff;border: 1px dotted black;border-radius: 0.25em;box-sizing: border-box;margin-bottom: 0.5em;}#sk-container-id-6 div.sk-estimator:hover {background-color: #d4ebff;}#sk-container-id-6 div.sk-parallel-item::after {content: \"\";width: 100%;border-bottom: 1px solid gray;flex-grow: 1;}#sk-container-id-6 div.sk-label:hover label.sk-toggleable__label {background-color: #d4ebff;}#sk-container-id-6 div.sk-serial::before {content: \"\";position: absolute;border-left: 1px solid gray;box-sizing: border-box;top: 0;bottom: 0;left: 50%;z-index: 0;}#sk-container-id-6 div.sk-serial {display: flex;flex-direction: column;align-items: center;background-color: white;padding-right: 0.2em;padding-left: 0.2em;position: relative;}#sk-container-id-6 div.sk-item {position: relative;z-index: 1;}#sk-container-id-6 div.sk-parallel {display: flex;align-items: stretch;justify-content: center;background-color: white;position: relative;}#sk-container-id-6 div.sk-item::before, #sk-container-id-6 div.sk-parallel-item::before {content: \"\";position: absolute;border-left: 1px solid gray;box-sizing: border-box;top: 0;bottom: 0;left: 50%;z-index: -1;}#sk-container-id-6 div.sk-parallel-item {display: flex;flex-direction: column;z-index: 1;position: relative;background-color: white;}#sk-container-id-6 div.sk-parallel-item:first-child::after {align-self: flex-end;width: 50%;}#sk-container-id-6 div.sk-parallel-item:last-child::after {align-self: flex-start;width: 50%;}#sk-container-id-6 div.sk-parallel-item:only-child::after {width: 0;}#sk-container-id-6 div.sk-dashed-wrapped {border: 1px dashed gray;margin: 0 0.4em 0.5em 0.4em;box-sizing: border-box;padding-bottom: 0.4em;background-color: white;}#sk-container-id-6 div.sk-label label {font-family: monospace;font-weight: bold;display: inline-block;line-height: 1.2em;}#sk-container-id-6 div.sk-label-container {text-align: center;}#sk-container-id-6 div.sk-container {/* jupyter's `normalize.less` sets `[hidden] { display: none; }` but bootstrap.min.css set `[hidden] { display: none !important; }` so we also need the `!important` here to be able to override the default hidden behavior on the sphinx rendered scikit-learn.org. See: https://github.com/scikit-learn/scikit-learn/issues/21755 */display: inline-block !important;position: relative;}#sk-container-id-6 div.sk-text-repr-fallback {display: none;}</style><div id=\"sk-container-id-6\" class=\"sk-top-container\"><div class=\"sk-text-repr-fallback\"><pre>Pipeline(steps=[(&#x27;processor&#x27;,\n",
       "                 ColumnTransformer(transformers=[(&#x27;num_cols&#x27;, StandardScaler(),\n",
       "                                                  [&#x27;Assessed Value&#x27;]),\n",
       "                                                 (&#x27;cat_cols&#x27;, OneHotEncoder(),\n",
       "                                                  [&#x27;Town&#x27;, &#x27;Property Type&#x27;])])),\n",
       "                (&#x27;model&#x27;,\n",
       "                 GridSearchCV(cv=3,\n",
       "                              estimator=XGBRegressor(base_score=None,\n",
       "                                                     booster=None,\n",
       "                                                     callbacks=None,\n",
       "                                                     colsample_bylevel=None,\n",
       "                                                     colsample_bynode=None,\n",
       "                                                     colsample_bytree=None,\n",
       "                                                     device=None,\n",
       "                                                     early_stoppi...\n",
       "                                                     max_cat_threshold=None,\n",
       "                                                     max_cat_to_onehot=None,\n",
       "                                                     max_delta_step=None,\n",
       "                                                     max_depth=None,\n",
       "                                                     max_leaves=None,\n",
       "                                                     min_child_weight=None,\n",
       "                                                     missing=nan,\n",
       "                                                     monotone_constraints=None,\n",
       "                                                     multi_strategy=None,\n",
       "                                                     n_estimators=None,\n",
       "                                                     n_jobs=None,\n",
       "                                                     num_parallel_tree=None,\n",
       "                                                     random_state=None, ...),\n",
       "                              param_grid={&#x27;learning_rate&#x27;: [0.3, 0.5],\n",
       "                                          &#x27;max_depth&#x27;: [5, 6],\n",
       "                                          &#x27;n_estimators&#x27;: [200, 300, 500]},\n",
       "                              verbose=2))])</pre><b>In a Jupyter environment, please rerun this cell to show the HTML representation or trust the notebook. <br />On GitHub, the HTML representation is unable to render, please try loading this page with nbviewer.org.</b></div><div class=\"sk-container\" hidden><div class=\"sk-item sk-dashed-wrapped\"><div class=\"sk-label-container\"><div class=\"sk-label sk-toggleable\"><input class=\"sk-toggleable__control sk-hidden--visually\" id=\"sk-estimator-id-40\" type=\"checkbox\" ><label for=\"sk-estimator-id-40\" class=\"sk-toggleable__label sk-toggleable__label-arrow\">Pipeline</label><div class=\"sk-toggleable__content\"><pre>Pipeline(steps=[(&#x27;processor&#x27;,\n",
       "                 ColumnTransformer(transformers=[(&#x27;num_cols&#x27;, StandardScaler(),\n",
       "                                                  [&#x27;Assessed Value&#x27;]),\n",
       "                                                 (&#x27;cat_cols&#x27;, OneHotEncoder(),\n",
       "                                                  [&#x27;Town&#x27;, &#x27;Property Type&#x27;])])),\n",
       "                (&#x27;model&#x27;,\n",
       "                 GridSearchCV(cv=3,\n",
       "                              estimator=XGBRegressor(base_score=None,\n",
       "                                                     booster=None,\n",
       "                                                     callbacks=None,\n",
       "                                                     colsample_bylevel=None,\n",
       "                                                     colsample_bynode=None,\n",
       "                                                     colsample_bytree=None,\n",
       "                                                     device=None,\n",
       "                                                     early_stoppi...\n",
       "                                                     max_cat_threshold=None,\n",
       "                                                     max_cat_to_onehot=None,\n",
       "                                                     max_delta_step=None,\n",
       "                                                     max_depth=None,\n",
       "                                                     max_leaves=None,\n",
       "                                                     min_child_weight=None,\n",
       "                                                     missing=nan,\n",
       "                                                     monotone_constraints=None,\n",
       "                                                     multi_strategy=None,\n",
       "                                                     n_estimators=None,\n",
       "                                                     n_jobs=None,\n",
       "                                                     num_parallel_tree=None,\n",
       "                                                     random_state=None, ...),\n",
       "                              param_grid={&#x27;learning_rate&#x27;: [0.3, 0.5],\n",
       "                                          &#x27;max_depth&#x27;: [5, 6],\n",
       "                                          &#x27;n_estimators&#x27;: [200, 300, 500]},\n",
       "                              verbose=2))])</pre></div></div></div><div class=\"sk-serial\"><div class=\"sk-item sk-dashed-wrapped\"><div class=\"sk-label-container\"><div class=\"sk-label sk-toggleable\"><input class=\"sk-toggleable__control sk-hidden--visually\" id=\"sk-estimator-id-41\" type=\"checkbox\" ><label for=\"sk-estimator-id-41\" class=\"sk-toggleable__label sk-toggleable__label-arrow\">processor: ColumnTransformer</label><div class=\"sk-toggleable__content\"><pre>ColumnTransformer(transformers=[(&#x27;num_cols&#x27;, StandardScaler(),\n",
       "                                 [&#x27;Assessed Value&#x27;]),\n",
       "                                (&#x27;cat_cols&#x27;, OneHotEncoder(),\n",
       "                                 [&#x27;Town&#x27;, &#x27;Property Type&#x27;])])</pre></div></div></div><div class=\"sk-parallel\"><div class=\"sk-parallel-item\"><div class=\"sk-item\"><div class=\"sk-label-container\"><div class=\"sk-label sk-toggleable\"><input class=\"sk-toggleable__control sk-hidden--visually\" id=\"sk-estimator-id-42\" type=\"checkbox\" ><label for=\"sk-estimator-id-42\" class=\"sk-toggleable__label sk-toggleable__label-arrow\">num_cols</label><div class=\"sk-toggleable__content\"><pre>[&#x27;Assessed Value&#x27;]</pre></div></div></div><div class=\"sk-serial\"><div class=\"sk-item\"><div class=\"sk-estimator sk-toggleable\"><input class=\"sk-toggleable__control sk-hidden--visually\" id=\"sk-estimator-id-43\" type=\"checkbox\" ><label for=\"sk-estimator-id-43\" class=\"sk-toggleable__label sk-toggleable__label-arrow\">StandardScaler</label><div class=\"sk-toggleable__content\"><pre>StandardScaler()</pre></div></div></div></div></div></div><div class=\"sk-parallel-item\"><div class=\"sk-item\"><div class=\"sk-label-container\"><div class=\"sk-label sk-toggleable\"><input class=\"sk-toggleable__control sk-hidden--visually\" id=\"sk-estimator-id-44\" type=\"checkbox\" ><label for=\"sk-estimator-id-44\" class=\"sk-toggleable__label sk-toggleable__label-arrow\">cat_cols</label><div class=\"sk-toggleable__content\"><pre>[&#x27;Town&#x27;, &#x27;Property Type&#x27;]</pre></div></div></div><div class=\"sk-serial\"><div class=\"sk-item\"><div class=\"sk-estimator sk-toggleable\"><input class=\"sk-toggleable__control sk-hidden--visually\" id=\"sk-estimator-id-45\" type=\"checkbox\" ><label for=\"sk-estimator-id-45\" class=\"sk-toggleable__label sk-toggleable__label-arrow\">OneHotEncoder</label><div class=\"sk-toggleable__content\"><pre>OneHotEncoder()</pre></div></div></div></div></div></div></div></div><div class=\"sk-item sk-dashed-wrapped\"><div class=\"sk-label-container\"><div class=\"sk-label sk-toggleable\"><input class=\"sk-toggleable__control sk-hidden--visually\" id=\"sk-estimator-id-46\" type=\"checkbox\" ><label for=\"sk-estimator-id-46\" class=\"sk-toggleable__label sk-toggleable__label-arrow\">model: GridSearchCV</label><div class=\"sk-toggleable__content\"><pre>GridSearchCV(cv=3,\n",
       "             estimator=XGBRegressor(base_score=None, booster=None,\n",
       "                                    callbacks=None, colsample_bylevel=None,\n",
       "                                    colsample_bynode=None,\n",
       "                                    colsample_bytree=None, device=None,\n",
       "                                    early_stopping_rounds=None,\n",
       "                                    enable_categorical=False, eval_metric=None,\n",
       "                                    feature_types=None, gamma=None,\n",
       "                                    grow_policy=None, importance_type=None,\n",
       "                                    interaction_constraints=None,\n",
       "                                    learning_rate=None, m...,\n",
       "                                    max_cat_threshold=None,\n",
       "                                    max_cat_to_onehot=None, max_delta_step=None,\n",
       "                                    max_depth=None, max_leaves=None,\n",
       "                                    min_child_weight=None, missing=nan,\n",
       "                                    monotone_constraints=None,\n",
       "                                    multi_strategy=None, n_estimators=None,\n",
       "                                    n_jobs=None, num_parallel_tree=None,\n",
       "                                    random_state=None, ...),\n",
       "             param_grid={&#x27;learning_rate&#x27;: [0.3, 0.5], &#x27;max_depth&#x27;: [5, 6],\n",
       "                         &#x27;n_estimators&#x27;: [200, 300, 500]},\n",
       "             verbose=2)</pre></div></div></div><div class=\"sk-parallel\"><div class=\"sk-parallel-item\"><div class=\"sk-item\"><div class=\"sk-label-container\"><div class=\"sk-label sk-toggleable\"><input class=\"sk-toggleable__control sk-hidden--visually\" id=\"sk-estimator-id-47\" type=\"checkbox\" ><label for=\"sk-estimator-id-47\" class=\"sk-toggleable__label sk-toggleable__label-arrow\">estimator: XGBRegressor</label><div class=\"sk-toggleable__content\"><pre>XGBRegressor(base_score=None, booster=None, callbacks=None,\n",
       "             colsample_bylevel=None, colsample_bynode=None,\n",
       "             colsample_bytree=None, device=None, early_stopping_rounds=None,\n",
       "             enable_categorical=False, eval_metric=None, feature_types=None,\n",
       "             gamma=None, grow_policy=None, importance_type=None,\n",
       "             interaction_constraints=None, learning_rate=None, max_bin=None,\n",
       "             max_cat_threshold=None, max_cat_to_onehot=None,\n",
       "             max_delta_step=None, max_depth=None, max_leaves=None,\n",
       "             min_child_weight=None, missing=nan, monotone_constraints=None,\n",
       "             multi_strategy=None, n_estimators=None, n_jobs=None,\n",
       "             num_parallel_tree=None, random_state=None, ...)</pre></div></div></div><div class=\"sk-serial\"><div class=\"sk-item\"><div class=\"sk-estimator sk-toggleable\"><input class=\"sk-toggleable__control sk-hidden--visually\" id=\"sk-estimator-id-48\" type=\"checkbox\" ><label for=\"sk-estimator-id-48\" class=\"sk-toggleable__label sk-toggleable__label-arrow\">XGBRegressor</label><div class=\"sk-toggleable__content\"><pre>XGBRegressor(base_score=None, booster=None, callbacks=None,\n",
       "             colsample_bylevel=None, colsample_bynode=None,\n",
       "             colsample_bytree=None, device=None, early_stopping_rounds=None,\n",
       "             enable_categorical=False, eval_metric=None, feature_types=None,\n",
       "             gamma=None, grow_policy=None, importance_type=None,\n",
       "             interaction_constraints=None, learning_rate=None, max_bin=None,\n",
       "             max_cat_threshold=None, max_cat_to_onehot=None,\n",
       "             max_delta_step=None, max_depth=None, max_leaves=None,\n",
       "             min_child_weight=None, missing=nan, monotone_constraints=None,\n",
       "             multi_strategy=None, n_estimators=None, n_jobs=None,\n",
       "             num_parallel_tree=None, random_state=None, ...)</pre></div></div></div></div></div></div></div></div></div></div></div></div>"
      ],
      "text/plain": [
       "Pipeline(steps=[('processor',\n",
       "                 ColumnTransformer(transformers=[('num_cols', StandardScaler(),\n",
       "                                                  ['Assessed Value']),\n",
       "                                                 ('cat_cols', OneHotEncoder(),\n",
       "                                                  ['Town', 'Property Type'])])),\n",
       "                ('model',\n",
       "                 GridSearchCV(cv=3,\n",
       "                              estimator=XGBRegressor(base_score=None,\n",
       "                                                     booster=None,\n",
       "                                                     callbacks=None,\n",
       "                                                     colsample_bylevel=None,\n",
       "                                                     colsample_bynode=None,\n",
       "                                                     colsample_bytree=None,\n",
       "                                                     device=None,\n",
       "                                                     early_stoppi...\n",
       "                                                     max_cat_threshold=None,\n",
       "                                                     max_cat_to_onehot=None,\n",
       "                                                     max_delta_step=None,\n",
       "                                                     max_depth=None,\n",
       "                                                     max_leaves=None,\n",
       "                                                     min_child_weight=None,\n",
       "                                                     missing=nan,\n",
       "                                                     monotone_constraints=None,\n",
       "                                                     multi_strategy=None,\n",
       "                                                     n_estimators=None,\n",
       "                                                     n_jobs=None,\n",
       "                                                     num_parallel_tree=None,\n",
       "                                                     random_state=None, ...),\n",
       "                              param_grid={'learning_rate': [0.3, 0.5],\n",
       "                                          'max_depth': [5, 6],\n",
       "                                          'n_estimators': [200, 300, 500]},\n",
       "                              verbose=2))])"
      ]
     },
     "execution_count": 153,
     "metadata": {},
     "output_type": "execute_result"
    }
   ],
   "source": [
    "pipe_grid2.fit(X_train, y_train)"
   ]
  },
  {
   "cell_type": "code",
   "execution_count": 154,
   "id": "a1fc8dfc-bd08-4ce6-b816-605347efa947",
   "metadata": {
    "tags": []
   },
   "outputs": [
    {
     "data": {
      "text/plain": [
       "{'learning_rate': 0.3, 'max_depth': 6, 'n_estimators': 200}"
      ]
     },
     "execution_count": 154,
     "metadata": {},
     "output_type": "execute_result"
    }
   ],
   "source": [
    "gsearch2.best_params_"
   ]
  },
  {
   "cell_type": "code",
   "execution_count": 155,
   "id": "ed9e30a5-f98b-45a3-9041-288708aafde1",
   "metadata": {
    "tags": []
   },
   "outputs": [],
   "source": [
    "final_model = Pipeline([('processor', processor),\n",
    "                     ('model', XGBRegressor(learning_rate = 0.3, max_depth = 5, n_estimators = 200))])"
   ]
  },
  {
   "cell_type": "code",
   "execution_count": 156,
   "id": "c4d9cedf-433d-410d-9675-0f17200384ed",
   "metadata": {
    "tags": []
   },
   "outputs": [
    {
     "data": {
      "text/html": [
       "<style>#sk-container-id-7 {color: black;background-color: white;}#sk-container-id-7 pre{padding: 0;}#sk-container-id-7 div.sk-toggleable {background-color: white;}#sk-container-id-7 label.sk-toggleable__label {cursor: pointer;display: block;width: 100%;margin-bottom: 0;padding: 0.3em;box-sizing: border-box;text-align: center;}#sk-container-id-7 label.sk-toggleable__label-arrow:before {content: \"▸\";float: left;margin-right: 0.25em;color: #696969;}#sk-container-id-7 label.sk-toggleable__label-arrow:hover:before {color: black;}#sk-container-id-7 div.sk-estimator:hover label.sk-toggleable__label-arrow:before {color: black;}#sk-container-id-7 div.sk-toggleable__content {max-height: 0;max-width: 0;overflow: hidden;text-align: left;background-color: #f0f8ff;}#sk-container-id-7 div.sk-toggleable__content pre {margin: 0.2em;color: black;border-radius: 0.25em;background-color: #f0f8ff;}#sk-container-id-7 input.sk-toggleable__control:checked~div.sk-toggleable__content {max-height: 200px;max-width: 100%;overflow: auto;}#sk-container-id-7 input.sk-toggleable__control:checked~label.sk-toggleable__label-arrow:before {content: \"▾\";}#sk-container-id-7 div.sk-estimator input.sk-toggleable__control:checked~label.sk-toggleable__label {background-color: #d4ebff;}#sk-container-id-7 div.sk-label input.sk-toggleable__control:checked~label.sk-toggleable__label {background-color: #d4ebff;}#sk-container-id-7 input.sk-hidden--visually {border: 0;clip: rect(1px 1px 1px 1px);clip: rect(1px, 1px, 1px, 1px);height: 1px;margin: -1px;overflow: hidden;padding: 0;position: absolute;width: 1px;}#sk-container-id-7 div.sk-estimator {font-family: monospace;background-color: #f0f8ff;border: 1px dotted black;border-radius: 0.25em;box-sizing: border-box;margin-bottom: 0.5em;}#sk-container-id-7 div.sk-estimator:hover {background-color: #d4ebff;}#sk-container-id-7 div.sk-parallel-item::after {content: \"\";width: 100%;border-bottom: 1px solid gray;flex-grow: 1;}#sk-container-id-7 div.sk-label:hover label.sk-toggleable__label {background-color: #d4ebff;}#sk-container-id-7 div.sk-serial::before {content: \"\";position: absolute;border-left: 1px solid gray;box-sizing: border-box;top: 0;bottom: 0;left: 50%;z-index: 0;}#sk-container-id-7 div.sk-serial {display: flex;flex-direction: column;align-items: center;background-color: white;padding-right: 0.2em;padding-left: 0.2em;position: relative;}#sk-container-id-7 div.sk-item {position: relative;z-index: 1;}#sk-container-id-7 div.sk-parallel {display: flex;align-items: stretch;justify-content: center;background-color: white;position: relative;}#sk-container-id-7 div.sk-item::before, #sk-container-id-7 div.sk-parallel-item::before {content: \"\";position: absolute;border-left: 1px solid gray;box-sizing: border-box;top: 0;bottom: 0;left: 50%;z-index: -1;}#sk-container-id-7 div.sk-parallel-item {display: flex;flex-direction: column;z-index: 1;position: relative;background-color: white;}#sk-container-id-7 div.sk-parallel-item:first-child::after {align-self: flex-end;width: 50%;}#sk-container-id-7 div.sk-parallel-item:last-child::after {align-self: flex-start;width: 50%;}#sk-container-id-7 div.sk-parallel-item:only-child::after {width: 0;}#sk-container-id-7 div.sk-dashed-wrapped {border: 1px dashed gray;margin: 0 0.4em 0.5em 0.4em;box-sizing: border-box;padding-bottom: 0.4em;background-color: white;}#sk-container-id-7 div.sk-label label {font-family: monospace;font-weight: bold;display: inline-block;line-height: 1.2em;}#sk-container-id-7 div.sk-label-container {text-align: center;}#sk-container-id-7 div.sk-container {/* jupyter's `normalize.less` sets `[hidden] { display: none; }` but bootstrap.min.css set `[hidden] { display: none !important; }` so we also need the `!important` here to be able to override the default hidden behavior on the sphinx rendered scikit-learn.org. See: https://github.com/scikit-learn/scikit-learn/issues/21755 */display: inline-block !important;position: relative;}#sk-container-id-7 div.sk-text-repr-fallback {display: none;}</style><div id=\"sk-container-id-7\" class=\"sk-top-container\"><div class=\"sk-text-repr-fallback\"><pre>Pipeline(steps=[(&#x27;processor&#x27;,\n",
       "                 ColumnTransformer(transformers=[(&#x27;num_cols&#x27;, StandardScaler(),\n",
       "                                                  [&#x27;Assessed Value&#x27;]),\n",
       "                                                 (&#x27;cat_cols&#x27;, OneHotEncoder(),\n",
       "                                                  [&#x27;Town&#x27;, &#x27;Property Type&#x27;])])),\n",
       "                (&#x27;model&#x27;,\n",
       "                 XGBRegressor(base_score=None, booster=None, callbacks=None,\n",
       "                              colsample_bylevel=None, colsample_bynode=None,\n",
       "                              colsample_bytree=None, device=None,\n",
       "                              early_stopping_rounds=None,\n",
       "                              enable_catego...\n",
       "                              feature_types=None, gamma=None, grow_policy=None,\n",
       "                              importance_type=None,\n",
       "                              interaction_constraints=None, learning_rate=0.3,\n",
       "                              max_bin=None, max_cat_threshold=None,\n",
       "                              max_cat_to_onehot=None, max_delta_step=None,\n",
       "                              max_depth=5, max_leaves=None,\n",
       "                              min_child_weight=None, missing=nan,\n",
       "                              monotone_constraints=None, multi_strategy=None,\n",
       "                              n_estimators=200, n_jobs=None,\n",
       "                              num_parallel_tree=None, random_state=None, ...))])</pre><b>In a Jupyter environment, please rerun this cell to show the HTML representation or trust the notebook. <br />On GitHub, the HTML representation is unable to render, please try loading this page with nbviewer.org.</b></div><div class=\"sk-container\" hidden><div class=\"sk-item sk-dashed-wrapped\"><div class=\"sk-label-container\"><div class=\"sk-label sk-toggleable\"><input class=\"sk-toggleable__control sk-hidden--visually\" id=\"sk-estimator-id-49\" type=\"checkbox\" ><label for=\"sk-estimator-id-49\" class=\"sk-toggleable__label sk-toggleable__label-arrow\">Pipeline</label><div class=\"sk-toggleable__content\"><pre>Pipeline(steps=[(&#x27;processor&#x27;,\n",
       "                 ColumnTransformer(transformers=[(&#x27;num_cols&#x27;, StandardScaler(),\n",
       "                                                  [&#x27;Assessed Value&#x27;]),\n",
       "                                                 (&#x27;cat_cols&#x27;, OneHotEncoder(),\n",
       "                                                  [&#x27;Town&#x27;, &#x27;Property Type&#x27;])])),\n",
       "                (&#x27;model&#x27;,\n",
       "                 XGBRegressor(base_score=None, booster=None, callbacks=None,\n",
       "                              colsample_bylevel=None, colsample_bynode=None,\n",
       "                              colsample_bytree=None, device=None,\n",
       "                              early_stopping_rounds=None,\n",
       "                              enable_catego...\n",
       "                              feature_types=None, gamma=None, grow_policy=None,\n",
       "                              importance_type=None,\n",
       "                              interaction_constraints=None, learning_rate=0.3,\n",
       "                              max_bin=None, max_cat_threshold=None,\n",
       "                              max_cat_to_onehot=None, max_delta_step=None,\n",
       "                              max_depth=5, max_leaves=None,\n",
       "                              min_child_weight=None, missing=nan,\n",
       "                              monotone_constraints=None, multi_strategy=None,\n",
       "                              n_estimators=200, n_jobs=None,\n",
       "                              num_parallel_tree=None, random_state=None, ...))])</pre></div></div></div><div class=\"sk-serial\"><div class=\"sk-item sk-dashed-wrapped\"><div class=\"sk-label-container\"><div class=\"sk-label sk-toggleable\"><input class=\"sk-toggleable__control sk-hidden--visually\" id=\"sk-estimator-id-50\" type=\"checkbox\" ><label for=\"sk-estimator-id-50\" class=\"sk-toggleable__label sk-toggleable__label-arrow\">processor: ColumnTransformer</label><div class=\"sk-toggleable__content\"><pre>ColumnTransformer(transformers=[(&#x27;num_cols&#x27;, StandardScaler(),\n",
       "                                 [&#x27;Assessed Value&#x27;]),\n",
       "                                (&#x27;cat_cols&#x27;, OneHotEncoder(),\n",
       "                                 [&#x27;Town&#x27;, &#x27;Property Type&#x27;])])</pre></div></div></div><div class=\"sk-parallel\"><div class=\"sk-parallel-item\"><div class=\"sk-item\"><div class=\"sk-label-container\"><div class=\"sk-label sk-toggleable\"><input class=\"sk-toggleable__control sk-hidden--visually\" id=\"sk-estimator-id-51\" type=\"checkbox\" ><label for=\"sk-estimator-id-51\" class=\"sk-toggleable__label sk-toggleable__label-arrow\">num_cols</label><div class=\"sk-toggleable__content\"><pre>[&#x27;Assessed Value&#x27;]</pre></div></div></div><div class=\"sk-serial\"><div class=\"sk-item\"><div class=\"sk-estimator sk-toggleable\"><input class=\"sk-toggleable__control sk-hidden--visually\" id=\"sk-estimator-id-52\" type=\"checkbox\" ><label for=\"sk-estimator-id-52\" class=\"sk-toggleable__label sk-toggleable__label-arrow\">StandardScaler</label><div class=\"sk-toggleable__content\"><pre>StandardScaler()</pre></div></div></div></div></div></div><div class=\"sk-parallel-item\"><div class=\"sk-item\"><div class=\"sk-label-container\"><div class=\"sk-label sk-toggleable\"><input class=\"sk-toggleable__control sk-hidden--visually\" id=\"sk-estimator-id-53\" type=\"checkbox\" ><label for=\"sk-estimator-id-53\" class=\"sk-toggleable__label sk-toggleable__label-arrow\">cat_cols</label><div class=\"sk-toggleable__content\"><pre>[&#x27;Town&#x27;, &#x27;Property Type&#x27;]</pre></div></div></div><div class=\"sk-serial\"><div class=\"sk-item\"><div class=\"sk-estimator sk-toggleable\"><input class=\"sk-toggleable__control sk-hidden--visually\" id=\"sk-estimator-id-54\" type=\"checkbox\" ><label for=\"sk-estimator-id-54\" class=\"sk-toggleable__label sk-toggleable__label-arrow\">OneHotEncoder</label><div class=\"sk-toggleable__content\"><pre>OneHotEncoder()</pre></div></div></div></div></div></div></div></div><div class=\"sk-item\"><div class=\"sk-estimator sk-toggleable\"><input class=\"sk-toggleable__control sk-hidden--visually\" id=\"sk-estimator-id-55\" type=\"checkbox\" ><label for=\"sk-estimator-id-55\" class=\"sk-toggleable__label sk-toggleable__label-arrow\">XGBRegressor</label><div class=\"sk-toggleable__content\"><pre>XGBRegressor(base_score=None, booster=None, callbacks=None,\n",
       "             colsample_bylevel=None, colsample_bynode=None,\n",
       "             colsample_bytree=None, device=None, early_stopping_rounds=None,\n",
       "             enable_categorical=False, eval_metric=None, feature_types=None,\n",
       "             gamma=None, grow_policy=None, importance_type=None,\n",
       "             interaction_constraints=None, learning_rate=0.3, max_bin=None,\n",
       "             max_cat_threshold=None, max_cat_to_onehot=None,\n",
       "             max_delta_step=None, max_depth=5, max_leaves=None,\n",
       "             min_child_weight=None, missing=nan, monotone_constraints=None,\n",
       "             multi_strategy=None, n_estimators=200, n_jobs=None,\n",
       "             num_parallel_tree=None, random_state=None, ...)</pre></div></div></div></div></div></div></div>"
      ],
      "text/plain": [
       "Pipeline(steps=[('processor',\n",
       "                 ColumnTransformer(transformers=[('num_cols', StandardScaler(),\n",
       "                                                  ['Assessed Value']),\n",
       "                                                 ('cat_cols', OneHotEncoder(),\n",
       "                                                  ['Town', 'Property Type'])])),\n",
       "                ('model',\n",
       "                 XGBRegressor(base_score=None, booster=None, callbacks=None,\n",
       "                              colsample_bylevel=None, colsample_bynode=None,\n",
       "                              colsample_bytree=None, device=None,\n",
       "                              early_stopping_rounds=None,\n",
       "                              enable_catego...\n",
       "                              feature_types=None, gamma=None, grow_policy=None,\n",
       "                              importance_type=None,\n",
       "                              interaction_constraints=None, learning_rate=0.3,\n",
       "                              max_bin=None, max_cat_threshold=None,\n",
       "                              max_cat_to_onehot=None, max_delta_step=None,\n",
       "                              max_depth=5, max_leaves=None,\n",
       "                              min_child_weight=None, missing=nan,\n",
       "                              monotone_constraints=None, multi_strategy=None,\n",
       "                              n_estimators=200, n_jobs=None,\n",
       "                              num_parallel_tree=None, random_state=None, ...))])"
      ]
     },
     "execution_count": 156,
     "metadata": {},
     "output_type": "execute_result"
    }
   ],
   "source": [
    "final_model.fit(X_train, y_train)"
   ]
  },
  {
   "cell_type": "code",
   "execution_count": 157,
   "id": "fdb639bc-bba7-459d-8814-5760e90046e7",
   "metadata": {
    "tags": []
   },
   "outputs": [],
   "source": [
    "final_pred_xgb = final_model.predict(X_valid)"
   ]
  },
  {
   "cell_type": "code",
   "execution_count": 158,
   "id": "121d2dd1-facd-4ed5-8fd6-50445d247d1c",
   "metadata": {
    "tags": []
   },
   "outputs": [],
   "source": [
    "MSE_final = np.sqrt(mean_squared_error(y_valid, final_pred_xgb))\n",
    "MAE_final = (mean_absolute_error(y_valid, final_pred_xgb))\n"
   ]
  },
  {
   "cell_type": "code",
   "execution_count": 159,
   "id": "91006c25-192c-4278-944f-4895f9adbb69",
   "metadata": {
    "tags": []
   },
   "outputs": [
    {
     "data": {
      "text/plain": [
       "(2057589.279298785, 146643.1644650014)"
      ]
     },
     "execution_count": 159,
     "metadata": {},
     "output_type": "execute_result"
    }
   ],
   "source": [
    "MSE_final, MAE_final"
   ]
  },
  {
   "cell_type": "code",
   "execution_count": 160,
   "id": "5d8221c3-e051-4e22-9b47-ca3a0f187d10",
   "metadata": {
    "tags": []
   },
   "outputs": [
    {
     "data": {
      "text/plain": [
       "(2058385.7428025252, 146679.32147203566)"
      ]
     },
     "execution_count": 160,
     "metadata": {},
     "output_type": "execute_result"
    }
   ],
   "source": [
    "MSE_xgb, MAE_xgb"
   ]
  },
  {
   "cell_type": "code",
   "execution_count": 179,
   "id": "c12ca2b5-b0ff-41a6-8fb1-49d31be2ff05",
   "metadata": {
    "tags": []
   },
   "outputs": [
    {
     "data": {
      "text/plain": [
       "<matplotlib.legend.Legend at 0x2628cf50a50>"
      ]
     },
     "execution_count": 179,
     "metadata": {},
     "output_type": "execute_result"
    },
    {
     "data": {
      "image/png": "[encoded data removed]",
      "text/plain": [
       "<Figure size 640x480 with 1 Axes>"
      ]
     },
     "metadata": {},
     "output_type": "display_data"
    }
   ],
   "source": [
    "plt.plot(np.array(y_valid)[:100],label='y_test')\n",
    "plt.plot((final_pred_xgb)[:100],label='predicitions',color='red')\n",
    "plt.title('y_valid vs predict (100 values)', size=15, y=1.01)\n",
    "plt.legend()"
   ]
  },
  {
   "cell_type": "code",
   "execution_count": 163,
   "id": "f81047ce-6104-4889-bcc4-1e0371149b4c",
   "metadata": {},
   "outputs": [],
   "source": [
    "#Conclusion: model is generating quite well on average sale amount, considering that the set is huge and has a lot of outliners - that why extreme values are missing(even though its large) \n",
    "#model can be re-trained on agregated data such as each type of property is a separate model. \n",
    "\n"
   ]
  }
 ],
 "metadata": {
  "kernelspec": {
   "display_name": "Python 3 (ipykernel)",
   "language": "python",
   "name": "python3"
  },
  "language_info": {
   "codemirror_mode": {
    "name": "ipython",
    "version": 3
   },
   "file_extension": ".py",
   "mimetype": "text/x-python",
   "name": "python",
   "nbconvert_exporter": "python",
   "pygments_lexer": "ipython3",
   "version": "3.11.1"
  }
 },
 "nbformat": 4,
 "nbformat_minor": 5
}
